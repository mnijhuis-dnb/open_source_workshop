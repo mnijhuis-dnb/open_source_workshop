{
  "nbformat": 4,
  "nbformat_minor": 0,
  "metadata": {
    "colab": {
      "name": "Trains.ipynb",
      "provenance": [],
      "collapsed_sections": [],
      "authorship_tag": "ABX9TyOLUpGG2g3Nug8Iw41WlDGk",
      "include_colab_link": true
    },
    "kernelspec": {
      "name": "python3",
      "display_name": "Python 3"
    },
    "language_info": {
      "name": "python"
    }
  },
  "cells": [
    {
      "cell_type": "markdown",
      "metadata": {
        "id": "view-in-github",
        "colab_type": "text"
      },
      "source": [
        "<a href=\"https://colab.research.google.com/github/mnijhuis-dnb/open_source_workshop/blob/master/Trains_begin_II.ipynb\" target=\"_parent\"><img src=\"https://colab.research.google.com/assets/colab-badge.svg\" alt=\"Open In Colab\"/></a>"
      ]
    },
    {
      "cell_type": "markdown",
      "metadata": {
        "id": "Ki9g6T9XUc9X"
      },
      "source": [
        "Downloading the data from Github"
      ]
    },
    {
      "cell_type": "code",
      "metadata": {
        "id": "cpbZb7RQ9Lns"
      },
      "source": [
        "!wget https://raw.githubusercontent.com/rfordatascience/tidytuesday/master/data/2019/2019-02-26/full_trains.csv"
      ],
      "execution_count": null,
      "outputs": []
    },
    {
      "cell_type": "markdown",
      "metadata": {
        "id": "WzATNo77UjZp"
      },
      "source": [
        "Loading the packages to do some initial data wrangling"
      ]
    },
    {
      "cell_type": "code",
      "metadata": {
        "id": "sDrFQg5_9M-C"
      },
      "source": [
        "import pandas as pd\n",
        "import numpy as np\n",
        "import matplotlib.pyplot as plt"
      ],
      "execution_count": null,
      "outputs": []
    },
    {
      "cell_type": "markdown",
      "metadata": {
        "id": "T7_WPX6UUutG"
      },
      "source": [
        "Load the csv file to a dataframe"
      ]
    },
    {
      "cell_type": "code",
      "metadata": {
        "id": "2kFqZ-kR9OX3"
      },
      "source": [
        "df = pd.read_csv('full_trains.csv')"
      ],
      "execution_count": null,
      "outputs": []
    },
    {
      "cell_type": "markdown",
      "metadata": {
        "id": "9zYI6YLKVMUH"
      },
      "source": [
        "Show the data to get an idea of what is in the data"
      ]
    },
    {
      "cell_type": "code",
      "metadata": {
        "id": "zzyJC_lZ9SI-"
      },
      "source": [
        "df.head(10)"
      ],
      "execution_count": null,
      "outputs": []
    },
    {
      "cell_type": "markdown",
      "metadata": {
        "id": "ujxN2S_AVSLm"
      },
      "source": [
        "Do some data cleaning (only use the national trains, convert the datestrings to dates and only select the necessary data)"
      ]
    },
    {
      "cell_type": "code",
      "metadata": {
        "id": "pZ79Ii7r9Sfc"
      },
      "source": [
        "df = df[df['service']=='National']\n",
        "df['date'] = pd.to_datetime(df['year'].astype(str) + '-' + df['month'].astype(str))\n",
        "df = df[['date', 'departure_station', 'avg_delay_all_departing']]"
      ],
      "execution_count": null,
      "outputs": []
    },
    {
      "cell_type": "markdown",
      "metadata": {
        "id": "XDJ9zYbLWTju"
      },
      "source": [
        "Make a pivot table of the data"
      ]
    },
    {
      "cell_type": "code",
      "metadata": {
        "id": "z5nqxR_kyfZS"
      },
      "source": [
        "df2 = pd.pivot_table(df, index=['date'], values='avg_delay_all_departing', columns='departure_station', aggfunc='mean')\n",
        "df2[df2<0] = 0"
      ],
      "execution_count": null,
      "outputs": []
    },
    {
      "cell_type": "markdown",
      "metadata": {
        "id": "7JolmvzWWXAW"
      },
      "source": [
        "Show the resulting data"
      ]
    },
    {
      "cell_type": "code",
      "metadata": {
        "id": "BAe6acO9WZE0"
      },
      "source": [
        "df2.head(5)"
      ],
      "execution_count": null,
      "outputs": []
    }
  ]
}