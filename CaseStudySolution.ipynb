{
  "nbformat": 4,
  "nbformat_minor": 0,
  "metadata": {
    "colab": {
      "name": "CaseStudy.ipynb",
      "provenance": [],
      "collapsed_sections": [],
      "include_colab_link": true
    },
    "kernelspec": {
      "name": "python3",
      "display_name": "Python 3"
    }
  },
  "cells": [
    {
      "cell_type": "markdown",
      "metadata": {
        "id": "view-in-github",
        "colab_type": "text"
      },
      "source": [
        "<a href=\"https://colab.research.google.com/github/mnijhuis-dnb/open_source_workshop/blob/master/CaseStudySolution.ipynb\" target=\"_parent\"><img src=\"https://colab.research.google.com/assets/colab-badge.svg\" alt=\"Open In Colab\"/></a>"
      ]
    },
    {
      "cell_type": "code",
      "metadata": {
        "id": "ergY4Tzdz5eO",
        "colab_type": "code",
        "colab": {}
      },
      "source": [
        "import requests\n",
        "\n",
        "def download_files(id, destination):\n",
        "    URL = \"https://docs.google.com/uc?export=download\"\n",
        "\n",
        "    session = requests.Session()\n",
        "\n",
        "    response = session.get(URL, params = { 'id' : id }, stream = True)\n",
        "    token = get_confirm_token(response)\n",
        "\n",
        "    if token:\n",
        "        params = { 'id' : id, 'confirm' : token }\n",
        "        response = session.get(URL, params = params, stream = True)\n",
        "\n",
        "    save_response_content(response, destination)    \n",
        "\n",
        "def get_confirm_token(response):\n",
        "    for key, value in response.cookies.items():\n",
        "        if key.startswith('download_warning'):\n",
        "            return value\n",
        "\n",
        "    return None\n",
        "\n",
        "def save_response_content(response, destination):\n",
        "    CHUNK_SIZE = 32768\n",
        "\n",
        "    with open(destination, \"wb\") as f:\n",
        "        for chunk in response.iter_content(CHUNK_SIZE):\n",
        "            if chunk: # filter out keep-alive new chunks\n",
        "                f.write(chunk)"
      ],
      "execution_count": null,
      "outputs": []
    },
    {
      "cell_type": "code",
      "metadata": {
        "id": "Tz2BJezE1h4O",
        "colab_type": "code",
        "colab": {}
      },
      "source": [
        "file_Global_mobility_report = '/Global_mobility_report.csv'\n",
        "file_PPP_Loan_data = '/PPP_Loan_data.csv'\n",
        "file_US_zips = '/uszips.xslx'\n",
        "\n",
        "# download_files('1Fe73x8Splw9xY5FOTnpLWENJaBU2tHEy', file_NAICS)\n",
        "download_files('1d4C6sTuD53tc_Ewbfb1iXascKzDSzDl0', file_Global_mobility_report)\n",
        "# download_files('1KzT1XNA9K0enUv73nwPSkBYp7btg0pvJ', file_US_Hours_Worked)\n",
        "download_files('1_7s1tH7FVNA5s5gu1vcWxikmGYQ2ryvn', file_PPP_Loan_data)\n",
        "download_files('1f-ru7e4Ml0d5uzOMGtNpmOQ3kGSr7iT_', file_US_zips)"
      ],
      "execution_count": null,
      "outputs": []
    },
    {
      "cell_type": "code",
      "metadata": {
        "id": "pU0KM0cD1po9",
        "colab_type": "code",
        "colab": {}
      },
      "source": [
        "import pandas as pd\n",
        "import numpy as np\n",
        "import matplotlib.pyplot as plt"
      ],
      "execution_count": null,
      "outputs": []
    },
    {
      "cell_type": "code",
      "metadata": {
        "id": "kAkgyfjrZuRM",
        "colab_type": "code",
        "colab": {}
      },
      "source": [
        "df_zips = pd.read_excel(file_US_zips)\n",
        "df_zips = df_zips[['zip','county_fips','population']]"
      ],
      "execution_count": null,
      "outputs": []
    },
    {
      "cell_type": "code",
      "metadata": {
        "id": "VpD67u6FwuWi",
        "colab_type": "code",
        "colab": {
          "base_uri": "https://localhost:8080/",
          "height": 343
        },
        "outputId": "23b46a26-59c0-4bd8-da63-8303ce619583"
      },
      "source": [
        "df_mob = pd.read_csv(file_Global_mobility_report)\n",
        "df_mob = df_mob.loc[df_mob['country_region_code']=='US']\n",
        "df_mob.drop(columns=['country_region_code','country_region','iso_3166_2_code'], inplace=True)\n",
        "df_mob.dropna(subset=['census_fips_code'], inplace= True)\n",
        "#df_mob = pd.merge(df_mob, df_zips, how='inner', left_on='census_fips_code', right_on='county_fips')\n",
        "df_mob.head()"
      ],
      "execution_count": null,
      "outputs": []
    },
    {
      "cell_type": "code",
      "metadata": {
        "id": "iIQcSIpuxJdh",
        "colab_type": "code",
        "cellView": "code",
        "colab": {}
      },
      "source": [
        "df_PPP = pd.read_csv(file_PPP_Loan_data, low_memory=False)\n",
        "df_PPP.drop(columns=['Unnamed: 0', 'BusinessType', 'Address', 'BusinessName', 'CD', 'City', 'DateApproved', 'Lender', 'State', 'Gender', 'NonProfit', 'Veteran','RaceEthnicity'], inplace=True)\n",
        "df_PPP['LoanAmount'] = pd.to_numeric(df_PPP['LoanAmount'], errors='coerce')\n",
        "df_PPP['JobsRetained'] = pd.to_numeric(df_PPP['JobsRetained'], errors='coerce')"
      ],
      "execution_count": null,
      "outputs": []
    },
    {
      "cell_type": "code",
      "metadata": {
        "id": "UKExNbZBx7cm",
        "colab_type": "code",
        "colab": {
          "base_uri": "https://localhost:8080/",
          "height": 51
        },
        "outputId": "43425a28-ad2c-43a0-ea25-e2f4bfb1d6c8"
      },
      "source": [
        "print(df_PPP['LoanRange'].unique())"
      ],
      "execution_count": null,
      "outputs": []
    },
    {
      "cell_type": "code",
      "metadata": {
        "id": "d9FREAqnxFAE",
        "colab_type": "code",
        "colab": {}
      },
      "source": [
        "df_PPP.loc[df_PPP['LoanRange']=='a $5-10 million','LoanRange'] = 7000000\n",
        "df_PPP.loc[df_PPP['LoanRange']=='b $2-5 million','LoanRange'] = 3000000\n",
        "df_PPP.loc[df_PPP['LoanRange']=='c $1-2 million','LoanRange'] = 1500000\n",
        "df_PPP.loc[df_PPP['LoanRange']=='d $350,000-1 million','LoanRange'] = 700000\n",
        "df_PPP.loc[df_PPP['LoanRange']=='e $150,000-350,000','LoanRange'] = 250000\n",
        "df_PPP['LoanRange'] = pd.to_numeric(df_PPP['LoanRange'], errors='coerce')"
      ],
      "execution_count": null,
      "outputs": []
    },
    {
      "cell_type": "code",
      "metadata": {
        "id": "b6pOIx7uxEwj",
        "colab_type": "code",
        "colab": {}
      },
      "source": [
        "df_PPP['LoanRange'].fillna(0,inplace=True)\n",
        "df_PPP['LoanAmount'].fillna(0,inplace=True)\n",
        "df_PPP['LoanAmount'] = df_PPP['LoanAmount'] + df_PPP['LoanRange']\n",
        "df_PPP.drop(columns='LoanRange',inplace=True)"
      ],
      "execution_count": null,
      "outputs": []
    },
    {
      "cell_type": "code",
      "metadata": {
        "id": "CeuAQuvuDPd0",
        "colab_type": "code",
        "colab": {}
      },
      "source": [
        "df_mob['change_neg'] = df_mob[['retail_and_recreation_percent_change_from_baseline', 'transit_stations_percent_change_from_baseline', 'workplaces_percent_change_from_baseline']].mean(axis=1)\n",
        "df_mob['change_pos'] = df_mob[['parks_percent_change_from_baseline', 'residential_percent_change_from_baseline']].mean(axis=1)\n",
        "#df_mob.drop(columns=df_mob.columns[5:-1], inplace=True)\n",
        "df_mob[['metro_area', 'sub_region_2']] = df_mob[['metro_area', 'sub_region_2']].fillna('-')\n",
        "df_mob = df_mob.groupby(by=['census_fips_code', 'metro_area', 'sub_region_1', 'sub_region_2']).mean().reset_index()"
      ],
      "execution_count": null,
      "outputs": []
    },
    {
      "cell_type": "code",
      "metadata": {
        "id": "TKSQ2u9avNOn",
        "colab_type": "code",
        "colab": {}
      },
      "source": [
        "df_PPP = pd.pivot_table(df_PPP, values=['JobsRetained','LoanAmount'], index='Zip').reset_index()"
      ],
      "execution_count": null,
      "outputs": []
    },
    {
      "cell_type": "code",
      "metadata": {
        "id": "KJVDCRyO18YU",
        "colab_type": "code",
        "colab": {
          "base_uri": "https://localhost:8080/",
          "height": 498
        },
        "outputId": "19fd42d7-ec26-4c0e-9b0e-bda1e0321a7e"
      },
      "source": [
        "df_combined = pd.merge(df_PPP, df_zips, how='left', left_on='Zip', right_on='zip').drop(columns=['zip','Zip'])\n",
        "df_combined = pd.pivot_table(df_combined, values=['JobsRetained','LoanAmount','population'], index='county_fips', aggfunc='sum').reset_index()\n",
        "df_combined = pd.merge(df_combined, df_mob, how='left', left_on='county_fips', right_on='census_fips_code').drop(columns=['county_fips','census_fips_code'])\n",
        "df_combined.head(10)"
      ],
      "execution_count": null,
      "outputs": []
    },
    {
      "cell_type": "code",
      "metadata": {
        "id": "UO4F-s0MaMPJ",
        "colab_type": "code",
        "colab": {}
      },
      "source": [
        "df_combined['JobsRetained'] = df_combined['JobsRetained']/df_combined['population']*1000\n",
        "df_combined['LoanAmount'] = df_combined['LoanAmount']/df_combined['population']\n",
        "df_combined = df_combined.loc[df_combined['population'] > 10000]"
      ],
      "execution_count": null,
      "outputs": []
    },
    {
      "cell_type": "code",
      "metadata": {
        "id": "SsdwqonHvs2L",
        "colab_type": "code",
        "colab": {
          "base_uri": "https://localhost:8080/",
          "height": 1000
        },
        "outputId": "881a3e35-8031-4824-d691-c334d25bfc66"
      },
      "source": [
        "import matplotlib.pyplot as plt\n",
        "plt.rcParams['figure.figsize'] = [16, 9]\n",
        "plot = df_combined.loc[df_combined['LoanAmount']<20].plot.scatter(x='LoanAmount', y='retail_and_recreation_percent_change_from_baseline', alpha=0.2)\n",
        "df_combined.loc[df_combined['LoanAmount']<20].plot.scatter(x='LoanAmount', y='transit_stations_percent_change_from_baseline', alpha=0.2)\n",
        "df_combined.loc[df_combined['LoanAmount']<20].plot.scatter(x='LoanAmount', y='workplaces_percent_change_from_baseline', alpha=0.2)\n",
        "df_combined.loc[df_combined['LoanAmount']<20].plot.scatter(x='LoanAmount', y='grocery_and_pharmacy_percent_change_from_baseline', alpha=0.2)\n",
        "df_combined.loc[df_combined['LoanAmount']<20].plot.scatter(x='LoanAmount', y='residential_percent_change_from_baseline', alpha=0.2)\n",
        "df_combined.loc[df_combined['LoanAmount']<20].plot.scatter(x='LoanAmount', y='parks_percent_change_from_baseline', alpha=0.2)\n",
        "df_combined.loc[df_combined['LoanAmount']<20].plot.scatter(x='LoanAmount', y='change_pos', alpha=0.2)\n",
        "df_combined.loc[df_combined['LoanAmount']<20].plot.scatter(x='LoanAmount', y='change_neg', alpha=0.2)"
      ],
      "execution_count": null,
      "outputs": []
    },
    {
      "cell_type": "code",
      "metadata": {
        "id": "uh7hpctPFABy",
        "colab_type": "code",
        "colab": {
          "base_uri": "https://localhost:8080/",
          "height": 410
        },
        "outputId": "eabfc52d-02b2-4322-a0d5-b563f6f5bbf1"
      },
      "source": [
        "df_combined.corr()"
      ],
      "execution_count": null,
      "outputs": []
    },
    {
      "cell_type": "code",
      "metadata": {
        "id": "5uSd_qdSYIZb",
        "colab_type": "code",
        "colab": {
          "base_uri": "https://localhost:8080/",
          "height": 359
        },
        "outputId": "28d2827f-d67b-4a80-d86c-7970aaf693b7"
      },
      "source": [
        "col_combined = df_combined.columns[6:]\n",
        "df_combined.sort_values(by=['residential_percent_change_from_baseline'] , ascending=False, na_position='last').drop(columns=col_combined.drop('residential_percent_change_from_baseline')).head(10)"
      ],
      "execution_count": null,
      "outputs": []
    },
    {
      "cell_type": "code",
      "metadata": {
        "id": "jgxui4WYYcui",
        "colab_type": "code",
        "colab": {
          "base_uri": "https://localhost:8080/",
          "height": 359
        },
        "outputId": "1002e175-7634-4dde-8602-62f408a0e2f5"
      },
      "source": [
        "df_combined.sort_values(by=['workplaces_percent_change_from_baseline'] , ascending=True, na_position='last').drop(columns=col_combined.drop('workplaces_percent_change_from_baseline')).head(10)"
      ],
      "execution_count": null,
      "outputs": []
    }
  ]
}M1pjv37wW/TLGy1IElOB14K3DWm+5VJ7k3yxSRnTTQwjVPAl5N8M8mVY/pPBr7berwdP7CYFqvp3gFwnE2fE6pqZzP9P8AJY+ZxvE2v3wK+2NE333pUk3VNc/r4+o7TIx1n0+kCYFdVPdTR7zjr2az9+8Fv0yxsNa8kRwO3AtdW1eOzujcDp1XVOcAngdsnHZ+e4VVV9TLgjcC7mtOENOWSHAW8Cfi7Md2OsylXo+t6vLZnIJJ8ANgP3NQxi+vR6fGXwIuAFcBO4KP9hqNnYQ1zH611nPVorv37oW7TLGw1pyRHMvqnv6mqbpvdX1WPV9XeZvoLwJFJlk84TLVU1Y7m96PABkanaLXtAE5tPT6laVO/3ghsrqpdszscZ1Nr19On8Te/Hx0zj+NtyiS5ArgEuLw6bjSygPWoJqSqdlXVU1V1APgrxufCcTZlkiwD3gJ8vmsex1l/OvbvB79Ns7BVp+baiE8DD1TVxzrmeUEzH0nOY/Q/9b3JRam2JM9rbgRAkucBFwLfmjXbHcDbM/IKRjd12In61vnJtuNsat0BPH1HyLXA34+Z55+AC5Mc15xCeWHTph4kuQj4Q+BNVfVExzwLWY9qQmbdA+LXGZ+Lu4EzkrywOftlNaPxqf68DniwqraP63Sc9WeO/fvBb9OW9R2AptqvAW8DtrRu1f5+4JcAqupTwGXA1Un2Az8CVnd9Aq6JOAHY0NRAy4C/raovJbkKfpKzLzC6I/I24AngHT3FqkazUX898LuttnbOHGc9S/I5YBWwPMl24EPAOuCWJO8EHmF0kxSSrASuqqrfrqrHkvwJox1vgA9X1c9ycxw9Sx05ex/wHGBjs568s6quSnIS8NdVdTEd69Ee3sKS05GzVUlWMDotcoZmPdnOWXOX62sY7WAfAayvqvt7eAtLzricVdWnGXPPCMfZ1Ojavx/8Ns2v+5EkSZIkDZqnIkuSJEmSBs3CVpIkSZI0aBa2kiRJkqRBs7CVJEmSJA2aha0kSZIkadAsbCVJOghJ9k7gNa5N8uMkz1/s15onjvf3+fqSJHXx634kSToISfZW1dGL/Bp3AU8y+n7Ov1nM15onjkV/r5Ik/Sw8YitJ0iGWZEWSO5Pcl2RDkuOa9t9JcneSe5PcmuS5Tftnknwiyb8neTjJZa3nehFwNPBBYE2r/YoktyfZmGQmyTVJfj/Jfzavffw8sfxrkpXN9PIkM63nvS3Jl5I8lOT6pn0d8PNJ7kly0wT+jJIkLZiFrSRJh95ngfdU1a8CW4APNe23VdW5VXUO8ADwztYyJwKvAi4B1rXaVwM3A18HXpzkhFbf2cBbgHOBPwWeqKqXAv8BvH2eWOayAngr8BLgrUlOrar3Aj+qqhVVdflC/giSJE2Kha0kSYdQcx3ssVX1tabpRuDVzfTZSb6eZAtwOXBWa9Hbq+pAVW0F2sXrGuDmqjoA3Ar8Rqvvq1X1g6raDewB/qFp3wKcPk8sc/nnqtpTVT8GtgKnLWAZSZJ6s6zvACRJWkI+A7y5qu5NcgWwqtW3rzUdgCQvAc4ANiYBOAr4DvAXY5Y50Hp8gPm38fv56QfcPzerr/28Ty3guSRJ6pVHbCVJOoSqag/w/SQXNE1vA54+YnoMsDPJkYyO2M5nDXBdVZ3e/JwEnJRkQUdQ54llBnh5M30ZC/N/TeySJE0VP4GVJOngPDfJ9tbjjwFrgU81N4d6GHhH0/dHwF3A7ub3MfM892rg4lltG5r2XQuMryuWjwC3JLkS+McFPtcNwH1JNnudrSRpmvh1P5IkSZKkQfNUZEmSJEnSoFnYSpIkSZIGzcJWkiRJkjRoFraSJEmSpEGzsJUkSZIkDZqFrSRJkiRp0CxsJUmSJEmDZmErSZIkSRq0/weBmIgYkjz+mgAAAABJRU5ErkJggg==\n",
            "text/plain": [
              "<Figure size 1152x648 with 1 Axes>"
            ]
          },
          "metadata": {
            "tags": [],
            "needs_background": "light"
          }
        },
        {
          "output_type": "display_data",
          "data": {
            "image/png": "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\n",
            "text/plain": [
              "<Figure size 1152x648 with 1 Axes>"
            ]
          },
          "metadata": {
            "tags": [],
            "needs_background": "light"
          }
        }
      ]
    },
    {
      "cell_type": "code",
      "metadata": {
        "id": "uh7hpctPFABy",
        "colab_type": "code",
        "colab": {
          "base_uri": "https://localhost:8080/",
          "height": 410
        },
        "outputId": "eabfc52d-02b2-4322-a0d5-b563f6f5bbf1"
      },
      "source": [
        "df_combined.corr()"
      ],
      "execution_count": 76,
      "outputs": [
        {
          "output_type": "execute_result",
          "data": {
            "text/html": [
              "<div>\n",
              "<style scoped>\n",
              "    .dataframe tbody tr th:only-of-type {\n",
              "        vertical-align: middle;\n",
              "    }\n",
              "\n",
              "    .dataframe tbody tr th {\n",
              "        vertical-align: top;\n",
              "    }\n",
              "\n",
              "    .dataframe thead th {\n",
              "        text-align: right;\n",
              "    }\n",
              "</style>\n",
              "<table border=\"1\" class=\"dataframe\">\n",
              "  <thead>\n",
              "    <tr style=\"text-align: right;\">\n",
              "      <th></th>\n",
              "      <th>JobsRetained</th>\n",
              "      <th>LoanAmount</th>\n",
              "      <th>population</th>\n",
              "      <th>retail_and_recreation_percent_change_from_baseline</th>\n",
              "      <th>grocery_and_pharmacy_percent_change_from_baseline</th>\n",
              "      <th>parks_percent_change_from_baseline</th>\n",
              "      <th>transit_stations_percent_change_from_baseline</th>\n",
              "      <th>workplaces_percent_change_from_baseline</th>\n",
              "      <th>residential_percent_change_from_baseline</th>\n",
              "      <th>change_neg</th>\n",
              "      <th>change_pos</th>\n",
              "    </tr>\n",
              "  </thead>\n",
              "  <tbody>\n",
              "    <tr>\n",
              "      <th>JobsRetained</th>\n",
              "      <td>1.000000</td>\n",
              "      <td>0.843149</td>\n",
              "      <td>-0.194057</td>\n",
              "      <td>0.090858</td>\n",
              "      <td>0.177878</td>\n",
              "      <td>-0.198008</td>\n",
              "      <td>0.176997</td>\n",
              "      <td>0.231200</td>\n",
              "      <td>-0.316922</td>\n",
              "      <td>0.049456</td>\n",
              "      <td>-0.244755</td>\n",
              "    </tr>\n",
              "    <tr>\n",
              "      <th>LoanAmount</th>\n",
              "      <td>0.843149</td>\n",
              "      <td>1.000000</td>\n",
              "      <td>-0.183309</td>\n",
              "      <td>0.059625</td>\n",
              "      <td>0.141885</td>\n",
              "      <td>-0.153941</td>\n",
              "      <td>0.147793</td>\n",
              "      <td>0.221817</td>\n",
              "      <td>-0.266832</td>\n",
              "      <td>0.035591</td>\n",
              "      <td>-0.205935</td>\n",
              "    </tr>\n",
              "    <tr>\n",
              "      <th>population</th>\n",
              "      <td>-0.194057</td>\n",
              "      <td>-0.183309</td>\n",
              "      <td>1.000000</td>\n",
              "      <td>-0.308457</td>\n",
              "      <td>-0.258534</td>\n",
              "      <td>0.120911</td>\n",
              "      <td>-0.327361</td>\n",
              "      <td>-0.425971</td>\n",
              "      <td>0.384506</td>\n",
              "      <td>-0.350662</td>\n",
              "      <td>0.193285</td>\n",
              "    </tr>\n",
              "    <tr>\n",
              "      <th>retail_and_recreation_percent_change_from_baseline</th>\n",
              "      <td>0.090858</td>\n",
              "      <td>0.059625</td>\n",
              "      <td>-0.308457</td>\n",
              "      <td>1.000000</td>\n",
              "      <td>0.502551</td>\n",
              "      <td>-0.121463</td>\n",
              "      <td>0.507046</td>\n",
              "      <td>0.572374</td>\n",
              "      <td>-0.573215</td>\n",
              "      <td>0.696310</td>\n",
              "      <td>-0.207144</td>\n",
              "    </tr>\n",
              "    <tr>\n",
              "      <th>grocery_and_pharmacy_percent_change_from_baseline</th>\n",
              "      <td>0.177878</td>\n",
              "      <td>0.141885</td>\n",
              "      <td>-0.258534</td>\n",
              "      <td>0.502551</td>\n",
              "      <td>1.000000</td>\n",
              "      <td>-0.022935</td>\n",
              "      <td>0.451931</td>\n",
              "      <td>0.471769</td>\n",
              "      <td>-0.418128</td>\n",
              "      <td>0.511347</td>\n",
              "      <td>-0.090179</td>\n",
              "    </tr>\n",
              "    <tr>\n",
              "      <th>parks_percent_change_from_baseline</th>\n",
              "      <td>-0.198008</td>\n",
              "      <td>-0.153941</td>\n",
              "      <td>0.120911</td>\n",
              "      <td>-0.121463</td>\n",
              "      <td>-0.022935</td>\n",
              "      <td>1.000000</td>\n",
              "      <td>0.016336</td>\n",
              "      <td>-0.285207</td>\n",
              "      <td>0.221112</td>\n",
              "      <td>-0.089946</td>\n",
              "      <td>0.879728</td>\n",
              "    </tr>\n",
              "    <tr>\n",
              "      <th>transit_stations_percent_change_from_baseline</th>\n",
              "      <td>0.176997</td>\n",
              "      <td>0.147793</td>\n",
              "      <td>-0.327361</td>\n",
              "      <td>0.507046</td>\n",
              "      <td>0.451931</td>\n",
              "      <td>0.016336</td>\n",
              "      <td>1.000000</td>\n",
              "      <td>0.541528</td>\n",
              "      <td>-0.456587</td>\n",
              "      <td>0.829324</td>\n",
              "      <td>-0.082356</td>\n",
              "    </tr>\n",
              "    <tr>\n",
              "      <th>workplaces_percent_change_from_baseline</th>\n",
              "      <td>0.231200</td>\n",
              "      <td>0.221817</td>\n",
              "      <td>-0.425971</td>\n",
              "      <td>0.572374</td>\n",
              "      <td>0.471769</td>\n",
              "      <td>-0.285207</td>\n",
              "      <td>0.541528</td>\n",
              "      <td>1.000000</td>\n",
              "      <td>-0.691326</td>\n",
              "      <td>0.695682</td>\n",
              "      <td>-0.374615</td>\n",
              "    </tr>\n",
              "    <tr>\n",
              "      <th>residential_percent_change_from_baseline</th>\n",
              "      <td>-0.316922</td>\n",
              "      <td>-0.266832</td>\n",
              "      <td>0.384506</td>\n",
              "      <td>-0.573215</td>\n",
              "      <td>-0.418128</td>\n",
              "      <td>0.221112</td>\n",
              "      <td>-0.456587</td>\n",
              "      <td>-0.691326</td>\n",
              "      <td>1.000000</td>\n",
              "      <td>-0.520157</td>\n",
              "      <td>0.412478</td>\n",
              "    </tr>\n",
              "    <tr>\n",
              "      <th>change_neg</th>\n",
              "      <td>0.049456</td>\n",
              "      <td>0.035591</td>\n",
              "      <td>-0.350662</td>\n",
              "      <td>0.696310</td>\n",
              "      <td>0.511347</td>\n",
              "      <td>-0.089946</td>\n",
              "      <td>0.829324</td>\n",
              "      <td>0.695682</td>\n",
              "      <td>-0.520157</td>\n",
              "      <td>1.000000</td>\n",
              "      <td>-0.155001</td>\n",
              "    </tr>\n",
              "    <tr>\n",
              "      <th>change_pos</th>\n",
              "      <td>-0.244755</td>\n",
              "      <td>-0.205935</td>\n",
              "      <td>0.193285</td>\n",
              "      <td>-0.207144</td>\n",
              "      <td>-0.090179</td>\n",
              "      <td>0.879728</td>\n",
              "      <td>-0.082356</td>\n",
              "      <td>-0.374615</td>\n",
              "      <td>0.412478</td>\n",
              "      <td>-0.155001</td>\n",
              "      <td>1.000000</td>\n",
              "    </tr>\n",
              "  </tbody>\n",
              "</table>\n",
              "</div>"
            ],
            "text/plain": [
              "                                                    JobsRetained  ...  change_pos\n",
              "JobsRetained                                            1.000000  ...   -0.244755\n",
              "LoanAmount                                              0.843149  ...   -0.205935\n",
              "population                                             -0.194057  ...    0.193285\n",
              "retail_and_recreation_percent_change_from_baseline      0.090858  ...   -0.207144\n",
              "grocery_and_pharmacy_percent_change_from_baseline       0.177878  ...   -0.090179\n",
              "parks_percent_change_from_baseline                     -0.198008  ...    0.879728\n",
              "transit_stations_percent_change_from_baseline           0.176997  ...   -0.082356\n",
              "workplaces_percent_change_from_baseline                 0.231200  ...   -0.374615\n",
              "residential_percent_change_from_baseline               -0.316922  ...    0.412478\n",
              "change_neg                                              0.049456  ...   -0.155001\n",
              "change_pos                                             -0.244755  ...    1.000000\n",
              "\n",
              "[11 rows x 11 columns]"
            ]
          },
          "metadata": {
            "tags": []
          },
          "execution_count": 76
        }
      ]
    },
    {
      "cell_type": "code",
      "metadata": {
        "id": "5uSd_qdSYIZb",
        "colab_type": "code",
        "colab": {
          "base_uri": "https://localhost:8080/",
          "height": 359
        },
        "outputId": "28d2827f-d67b-4a80-d86c-7970aaf693b7"
      },
      "source": [
        "col_combined = df_combined.columns[6:]\n",
        "df_combined.sort_values(by=['residential_percent_change_from_baseline'] , ascending=False, na_position='last').drop(columns=col_combined.drop('residential_percent_change_from_baseline')).head(10)"
      ],
      "execution_count": 77,
      "outputs": [
        {
          "output_type": "execute_result",
          "data": {
            "text/html": [
              "<div>\n",
              "<style scoped>\n",
              "    .dataframe tbody tr th:only-of-type {\n",
              "        vertical-align: middle;\n",
              "    }\n",
              "\n",
              "    .dataframe tbody tr th {\n",
              "        vertical-align: top;\n",
              "    }\n",
              "\n",
              "    .dataframe thead th {\n",
              "        text-align: right;\n",
              "    }\n",
              "</style>\n",
              "<table border=\"1\" class=\"dataframe\">\n",
              "  <thead>\n",
              "    <tr style=\"text-align: right;\">\n",
              "      <th></th>\n",
              "      <th>JobsRetained</th>\n",
              "      <th>LoanAmount</th>\n",
              "      <th>population</th>\n",
              "      <th>metro_area</th>\n",
              "      <th>sub_region_1</th>\n",
              "      <th>sub_region_2</th>\n",
              "      <th>residential_percent_change_from_baseline</th>\n",
              "    </tr>\n",
              "  </thead>\n",
              "  <tbody>\n",
              "    <tr>\n",
              "      <th>223</th>\n",
              "      <td>0.335794</td>\n",
              "      <td>4.681407</td>\n",
              "      <td>870044.0</td>\n",
              "      <td>-</td>\n",
              "      <td>California</td>\n",
              "      <td>San Francisco County</td>\n",
              "      <td>22.295918</td>\n",
              "    </tr>\n",
              "    <tr>\n",
              "      <th>2822</th>\n",
              "      <td>0.664429</td>\n",
              "      <td>9.622133</td>\n",
              "      <td>232228.0</td>\n",
              "      <td>-</td>\n",
              "      <td>Virginia</td>\n",
              "      <td>Arlington County</td>\n",
              "      <td>20.265306</td>\n",
              "    </tr>\n",
              "    <tr>\n",
              "      <th>228</th>\n",
              "      <td>0.336785</td>\n",
              "      <td>4.231996</td>\n",
              "      <td>1899127.0</td>\n",
              "      <td>-</td>\n",
              "      <td>California</td>\n",
              "      <td>Santa Clara County</td>\n",
              "      <td>20.239796</td>\n",
              "    </tr>\n",
              "    <tr>\n",
              "      <th>226</th>\n",
              "      <td>0.429825</td>\n",
              "      <td>5.468863</td>\n",
              "      <td>784432.0</td>\n",
              "      <td>-</td>\n",
              "      <td>California</td>\n",
              "      <td>San Mateo County</td>\n",
              "      <td>19.969388</td>\n",
              "    </tr>\n",
              "    <tr>\n",
              "      <th>1856</th>\n",
              "      <td>0.482914</td>\n",
              "      <td>7.903453</td>\n",
              "      <td>1621814.0</td>\n",
              "      <td>-</td>\n",
              "      <td>New York</td>\n",
              "      <td>New York County</td>\n",
              "      <td>18.071429</td>\n",
              "    </tr>\n",
              "    <tr>\n",
              "      <th>186</th>\n",
              "      <td>0.400914</td>\n",
              "      <td>5.057624</td>\n",
              "      <td>1649339.0</td>\n",
              "      <td>-</td>\n",
              "      <td>California</td>\n",
              "      <td>Alameda County</td>\n",
              "      <td>17.561224</td>\n",
              "    </tr>\n",
              "    <tr>\n",
              "      <th>2911</th>\n",
              "      <td>0.399276</td>\n",
              "      <td>4.885226</td>\n",
              "      <td>150217.0</td>\n",
              "      <td>-</td>\n",
              "      <td>Virginia</td>\n",
              "      <td>Alexandria</td>\n",
              "      <td>17.464286</td>\n",
              "    </tr>\n",
              "    <tr>\n",
              "      <th>2844</th>\n",
              "      <td>0.370470</td>\n",
              "      <td>4.923855</td>\n",
              "      <td>1169979.0</td>\n",
              "      <td>-</td>\n",
              "      <td>Virginia</td>\n",
              "      <td>Fairfax County</td>\n",
              "      <td>17.326531</td>\n",
              "    </tr>\n",
              "    <tr>\n",
              "      <th>1204</th>\n",
              "      <td>0.816843</td>\n",
              "      <td>10.536487</td>\n",
              "      <td>320401.0</td>\n",
              "      <td>-</td>\n",
              "      <td>Maryland</td>\n",
              "      <td>Howard County</td>\n",
              "      <td>17.061224</td>\n",
              "    </tr>\n",
              "    <tr>\n",
              "      <th>1866</th>\n",
              "      <td>0.231155</td>\n",
              "      <td>4.911277</td>\n",
              "      <td>2298781.0</td>\n",
              "      <td>-</td>\n",
              "      <td>New York</td>\n",
              "      <td>Queens County</td>\n",
              "      <td>17.015306</td>\n",
              "    </tr>\n",
              "  </tbody>\n",
              "</table>\n",
              "</div>"
            ],
            "text/plain": [
              "      JobsRetained  ...  residential_percent_change_from_baseline\n",
              "223       0.335794  ...                                 22.295918\n",
              "2822      0.664429  ...                                 20.265306\n",
              "228       0.336785  ...                                 20.239796\n",
              "226       0.429825  ...                                 19.969388\n",
              "1856      0.482914  ...                                 18.071429\n",
              "186       0.400914  ...                                 17.561224\n",
              "2911      0.399276  ...                                 17.464286\n",
              "2844      0.370470  ...                                 17.326531\n",
              "1204      0.816843  ...                                 17.061224\n",
              "1866      0.231155  ...                                 17.015306\n",
              "\n",
              "[10 rows x 7 columns]"
            ]
          },
          "metadata": {
            "tags": []
          },
          "execution_count": 77
        }
      ]
    },
    {
      "cell_type": "code",
      "metadata": {
        "id": "jgxui4WYYcui",
        "colab_type": "code",
        "colab": {
          "base_uri": "https://localhost:8080/",
          "height": 359
        },
        "outputId": "1002e175-7634-4dde-8602-62f408a0e2f5"
      },
      "source": [
        "df_combined.sort_values(by=['workplaces_percent_change_from_baseline'] , ascending=True, na_position='last').drop(columns=col_combined.drop('workplaces_percent_change_from_baseline')).head(10)"
      ],
      "execution_count": 78,
      "outputs": [
        {
          "output_type": "execute_result",
          "data": {
            "text/html": [
              "<div>\n",
              "<style scoped>\n",
              "    .dataframe tbody tr th:only-of-type {\n",
              "        vertical-align: middle;\n",
              "    }\n",
              "\n",
              "    .dataframe tbody tr th {\n",
              "        vertical-align: top;\n",
              "    }\n",
              "\n",
              "    .dataframe thead th {\n",
              "        text-align: right;\n",
              "    }\n",
              "</style>\n",
              "<table border=\"1\" class=\"dataframe\">\n",
              "  <thead>\n",
              "    <tr style=\"text-align: right;\">\n",
              "      <th></th>\n",
              "      <th>JobsRetained</th>\n",
              "      <th>LoanAmount</th>\n",
              "      <th>population</th>\n",
              "      <th>metro_area</th>\n",
              "      <th>sub_region_1</th>\n",
              "      <th>sub_region_2</th>\n",
              "      <th>workplaces_percent_change_from_baseline</th>\n",
              "    </tr>\n",
              "  </thead>\n",
              "  <tbody>\n",
              "    <tr>\n",
              "      <th>2918</th>\n",
              "      <td>0.615564</td>\n",
              "      <td>7.067054</td>\n",
              "      <td>18401.0</td>\n",
              "      <td>-</td>\n",
              "      <td>Virginia</td>\n",
              "      <td>Falls Church</td>\n",
              "      <td>-60.557143</td>\n",
              "    </tr>\n",
              "    <tr>\n",
              "      <th>223</th>\n",
              "      <td>0.335794</td>\n",
              "      <td>4.681407</td>\n",
              "      <td>870044.0</td>\n",
              "      <td>-</td>\n",
              "      <td>California</td>\n",
              "      <td>San Francisco County</td>\n",
              "      <td>-51.969388</td>\n",
              "    </tr>\n",
              "    <tr>\n",
              "      <th>1856</th>\n",
              "      <td>0.482914</td>\n",
              "      <td>7.903453</td>\n",
              "      <td>1621814.0</td>\n",
              "      <td>-</td>\n",
              "      <td>New York</td>\n",
              "      <td>New York County</td>\n",
              "      <td>-51.204082</td>\n",
              "    </tr>\n",
              "    <tr>\n",
              "      <th>2822</th>\n",
              "      <td>0.664429</td>\n",
              "      <td>9.622133</td>\n",
              "      <td>232228.0</td>\n",
              "      <td>-</td>\n",
              "      <td>Virginia</td>\n",
              "      <td>Arlington County</td>\n",
              "      <td>-48.632653</td>\n",
              "    </tr>\n",
              "    <tr>\n",
              "      <th>1808</th>\n",
              "      <td>0.554372</td>\n",
              "      <td>4.463329</td>\n",
              "      <td>18356.0</td>\n",
              "      <td>-</td>\n",
              "      <td>New Mexico</td>\n",
              "      <td>Los Alamos County</td>\n",
              "      <td>-47.753333</td>\n",
              "    </tr>\n",
              "    <tr>\n",
              "      <th>228</th>\n",
              "      <td>0.336785</td>\n",
              "      <td>4.231996</td>\n",
              "      <td>1899127.0</td>\n",
              "      <td>-</td>\n",
              "      <td>California</td>\n",
              "      <td>Santa Clara County</td>\n",
              "      <td>-47.010204</td>\n",
              "    </tr>\n",
              "    <tr>\n",
              "      <th>319</th>\n",
              "      <td>0.662092</td>\n",
              "      <td>7.397093</td>\n",
              "      <td>677433.0</td>\n",
              "      <td>-</td>\n",
              "      <td>District of Columbia</td>\n",
              "      <td>-</td>\n",
              "      <td>-46.484694</td>\n",
              "    </tr>\n",
              "    <tr>\n",
              "      <th>2957</th>\n",
              "      <td>0.376808</td>\n",
              "      <td>5.256892</td>\n",
              "      <td>2175809.0</td>\n",
              "      <td>-</td>\n",
              "      <td>Washington</td>\n",
              "      <td>King County</td>\n",
              "      <td>-45.346939</td>\n",
              "    </tr>\n",
              "    <tr>\n",
              "      <th>2794</th>\n",
              "      <td>3.826046</td>\n",
              "      <td>14.376906</td>\n",
              "      <td>42220.0</td>\n",
              "      <td>-</td>\n",
              "      <td>Utah</td>\n",
              "      <td>Summit County</td>\n",
              "      <td>-45.071429</td>\n",
              "    </tr>\n",
              "    <tr>\n",
              "      <th>293</th>\n",
              "      <td>0.841374</td>\n",
              "      <td>23.066235</td>\n",
              "      <td>15295.0</td>\n",
              "      <td>-</td>\n",
              "      <td>Colorado</td>\n",
              "      <td>Pitkin County</td>\n",
              "      <td>-44.682051</td>\n",
              "    </tr>\n",
              "  </tbody>\n",
              "</table>\n",
              "</div>"
            ],
            "text/plain": [
              "      JobsRetained  ...  workplaces_percent_change_from_baseline\n",
              "2918      0.615564  ...                               -60.557143\n",
              "223       0.335794  ...                               -51.969388\n",
              "1856      0.482914  ...                               -51.204082\n",
              "2822      0.664429  ...                               -48.632653\n",
              "1808      0.554372  ...                               -47.753333\n",
              "228       0.336785  ...                               -47.010204\n",
              "319       0.662092  ...                               -46.484694\n",
              "2957      0.376808  ...                               -45.346939\n",
              "2794      3.826046  ...                               -45.071429\n",
              "293       0.841374  ...                               -44.682051\n",
              "\n",
              "[10 rows x 7 columns]"
            ]
          },
          "metadata": {
            "tags": []
          },
          "execution_count": 78
        }
      ]
    },
    {
      "cell_type": "code",
      "metadata": {
        "id": "oD4LwgJMephX",
        "colab_type": "code",
        "colab": {
          "base_uri": "https://localhost:8080/",
          "height": 481
        },
        "outputId": "95a20f06-cb7a-4f6b-d1ad-8b686538939d"
      },
      "source": [
        "df_combined.sort_values(by=['JobsRetained'] , ascending=False, na_position='last').head(10)"
      ],
      "execution_count": 79,
      "outputs": [
        {
          "output_type": "execute_result",
          "data": {
            "text/html": [
              "<div>\n",
              "<style scoped>\n",
              "    .dataframe tbody tr th:only-of-type {\n",
              "        vertical-align: middle;\n",
              "    }\n",
              "\n",
              "    .dataframe tbody tr th {\n",
              "        vertical-align: top;\n
