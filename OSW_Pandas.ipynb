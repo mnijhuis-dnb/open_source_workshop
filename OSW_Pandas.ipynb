{
 "cells": [
  {
   "cell_type": "markdown",
   "metadata": {},
   "source": [
    "# Pandas\n",
    "\n",
    "### Open Source Workshop"
   ]
  },
  {
   "cell_type": "code",
   "execution_count": 1,
   "metadata": {},
   "outputs": [],
   "source": [
    "import pandas as pd \n",
    "import numpy as np"
   ]
  },
  {
   "cell_type": "markdown",
   "metadata": {},
   "source": [
    "### Data inlezen \n",
    "\n",
    "Data inlezen uit csv bestand\n"
   ]
  },
  {
   "cell_type": "code",
   "execution_count": 2,
   "metadata": {},
   "outputs": [],
   "source": [
    "df = pd.read_csv('C:\\\\Users\\\\RC3769S\\\\Documents\\\\OSW_Pandas\\\\Kernindicatoren.csv', delimiter=',', header='infer', index_col=None, skiprows=0, error_bad_lines=True)"
   ]
  },
  {
   "cell_type": "markdown",
   "metadata": {},
   "source": [
    "Ingelezen data weergeven"
   ]
  },
  {
   "cell_type": "code",
   "execution_count": 3,
   "metadata": {
    "scrolled": true
   },
   "outputs": [
    {
     "data": {
      "text/html": [
       "<div>\n",
       "<style scoped>\n",
       "    .dataframe tbody tr th:only-of-type {\n",
       "        vertical-align: middle;\n",
       "    }\n",
       "\n",
       "    .dataframe tbody tr th {\n",
       "        vertical-align: top;\n",
       "    }\n",
       "\n",
       "    .dataframe thead th {\n",
       "        text-align: right;\n",
       "    }\n",
       "</style>\n",
       "<table border=\"1\" class=\"dataframe\">\n",
       "  <thead>\n",
       "    <tr style=\"text-align: right;\">\n",
       "      <th></th>\n",
       "      <th>Instrument</th>\n",
       "      <th>InstrumentSub</th>\n",
       "      <th>Sector</th>\n",
       "      <th>Periode</th>\n",
       "      <th>waarde</th>\n",
       "    </tr>\n",
       "  </thead>\n",
       "  <tbody>\n",
       "    <tr>\n",
       "      <th>0</th>\n",
       "      <td>Zakelijke kredietverlening</td>\n",
       "      <td>Uitstaande bedragen (mln euro's)</td>\n",
       "      <td>Niet-financiële bedrijven</td>\n",
       "      <td>2003-01</td>\n",
       "      <td>178744.0</td>\n",
       "    </tr>\n",
       "    <tr>\n",
       "      <th>1</th>\n",
       "      <td>Zakelijke kredietverlening</td>\n",
       "      <td>Uitstaande bedragen (mln euro's)</td>\n",
       "      <td>Niet-financiële bedrijven</td>\n",
       "      <td>2003-02</td>\n",
       "      <td>179109.0</td>\n",
       "    </tr>\n",
       "    <tr>\n",
       "      <th>2</th>\n",
       "      <td>Zakelijke kredietverlening</td>\n",
       "      <td>Uitstaande bedragen (mln euro's)</td>\n",
       "      <td>Niet-financiële bedrijven</td>\n",
       "      <td>2003-03</td>\n",
       "      <td>179189.0</td>\n",
       "    </tr>\n",
       "    <tr>\n",
       "      <th>3</th>\n",
       "      <td>Zakelijke kredietverlening</td>\n",
       "      <td>Uitstaande bedragen (mln euro's)</td>\n",
       "      <td>Niet-financiële bedrijven</td>\n",
       "      <td>2003-04</td>\n",
       "      <td>180772.0</td>\n",
       "    </tr>\n",
       "    <tr>\n",
       "      <th>4</th>\n",
       "      <td>Zakelijke kredietverlening</td>\n",
       "      <td>Uitstaande bedragen (mln euro's)</td>\n",
       "      <td>Niet-financiële bedrijven</td>\n",
       "      <td>2003-05</td>\n",
       "      <td>180102.0</td>\n",
       "    </tr>\n",
       "  </tbody>\n",
       "</table>\n",
       "</div>"
      ],
      "text/plain": [
       "                    Instrument                      InstrumentSub  \\\n",
       "0  Zakelijke kredietverlening   Uitstaande bedragen (mln euro's)    \n",
       "1  Zakelijke kredietverlening   Uitstaande bedragen (mln euro's)    \n",
       "2  Zakelijke kredietverlening   Uitstaande bedragen (mln euro's)    \n",
       "3  Zakelijke kredietverlening   Uitstaande bedragen (mln euro's)    \n",
       "4  Zakelijke kredietverlening   Uitstaande bedragen (mln euro's)    \n",
       "\n",
       "                       Sector Periode     waarde  \n",
       "0  Niet-financiële bedrijven   2003-01  178744.0  \n",
       "1  Niet-financiële bedrijven   2003-02  179109.0  \n",
       "2  Niet-financiële bedrijven   2003-03  179189.0  \n",
       "3  Niet-financiële bedrijven   2003-04  180772.0  \n",
       "4  Niet-financiële bedrijven   2003-05  180102.0  "
      ]
     },
     "execution_count": 3,
     "metadata": {},
     "output_type": "execute_result"
    }
   ],
   "source": [
    "df.head(5)"
   ]
  },
  {
   "cell_type": "markdown",
   "metadata": {},
   "source": [
    "kolom namen weergeven"
   ]
  },
  {
   "cell_type": "code",
   "execution_count": 4,
   "metadata": {},
   "outputs": [
    {
     "data": {
      "text/plain": [
       "Index(['Instrument', 'InstrumentSub', 'Sector', 'Periode ', 'waarde'], dtype='object')"
      ]
     },
     "execution_count": 4,
     "metadata": {},
     "output_type": "execute_result"
    }
   ],
   "source": [
    "df.columns"
   ]
  },
  {
   "cell_type": "markdown",
   "metadata": {},
   "source": [
    "specifieke kolom selecteren"
   ]
  },
  {
   "cell_type": "code",
   "execution_count": 5,
   "metadata": {},
   "outputs": [
    {
     "data": {
      "text/plain": [
       "4038    1.24\n",
       "4039    1.18\n",
       "4040    1.18\n",
       "4041    1.53\n",
       "4042    1.14\n",
       "4043    1.24\n",
       "4044    1.09\n",
       "4045    1.20\n",
       "4046    1.17\n",
       "4047    1.10\n",
       "Name: waarde, dtype: float64"
      ]
     },
     "execution_count": 5,
     "metadata": {},
     "output_type": "execute_result"
    }
   ],
   "source": [
    "df['waarde'].tail(10)"
   ]
  },
  {
   "cell_type": "code",
   "execution_count": 6,
   "metadata": {},
   "outputs": [
    {
     "data": {
      "text/plain": [
       "4038    1.24\n",
       "4039    1.18\n",
       "4040    1.18\n",
       "4041    1.53\n",
       "4042    1.14\n",
       "4043    1.24\n",
       "4044    1.09\n",
       "4045    1.20\n",
       "4046    1.17\n",
       "4047    1.10\n",
       "Name: waarde, dtype: float64"
      ]
     },
     "execution_count": 6,
     "metadata": {},
     "output_type": "execute_result"
    }
   ],
   "source": [
    "col = df.columns\n",
    "df[col[4]].tail(10)"
   ]
  },
  {
   "cell_type": "markdown",
   "metadata": {},
   "source": [
    "Data types weergeven"
   ]
  },
  {
   "cell_type": "code",
   "execution_count": 7,
   "metadata": {},
   "outputs": [
    {
     "data": {
      "text/plain": [
       "Instrument        object\n",
       "InstrumentSub     object\n",
       "Sector            object\n",
       "Periode           object\n",
       "waarde           float64\n",
       "dtype: object"
      ]
     },
     "execution_count": 7,
     "metadata": {},
     "output_type": "execute_result"
    }
   ],
   "source": [
    "df.dtypes"
   ]
  },
  {
   "cell_type": "markdown",
   "metadata": {},
   "source": [
    "Data type wijzigen\n",
    "\n",
    "Voor  wijzigen naar numerieke data gebruik pd.to_numeric(df[kolom], errors='coerce'), voor string gebruik df['kolom'].astype(str)\n",
    "\n",
    "Voor format string zie: https://docs.python.org/3/library/datetime.html#strftime-and-strptime-behavior"
   ]
  },
  {
   "cell_type": "code",
   "execution_count": 8,
   "metadata": {},
   "outputs": [
    {
     "data": {
      "text/html": [
       "<div>\n",
       "<style scoped>\n",
       "    .dataframe tbody tr th:only-of-type {\n",
       "        vertical-align: middle;\n",
       "    }\n",
       "\n",
       "    .dataframe tbody tr th {\n",
       "        vertical-align: top;\n",
       "    }\n",
       "\n",
       "    .dataframe thead th {\n",
       "        text-align: right;\n",
       "    }\n",
       "</style>\n",
       "<table border=\"1\" class=\"dataframe\">\n",
       "  <thead>\n",
       "    <tr style=\"text-align: right;\">\n",
       "      <th></th>\n",
       "      <th>Instrument</th>\n",
       "      <th>InstrumentSub</th>\n",
       "      <th>Sector</th>\n",
       "      <th>Periode</th>\n",
       "      <th>waarde</th>\n",
       "    </tr>\n",
       "  </thead>\n",
       "  <tbody>\n",
       "    <tr>\n",
       "      <th>0</th>\n",
       "      <td>Zakelijke kredietverlening</td>\n",
       "      <td>Uitstaande bedragen (mln euro's)</td>\n",
       "      <td>Niet-financiële bedrijven</td>\n",
       "      <td>2003-01-01</td>\n",
       "      <td>178744.0</td>\n",
       "    </tr>\n",
       "    <tr>\n",
       "      <th>1</th>\n",
       "      <td>Zakelijke kredietverlening</td>\n",
       "      <td>Uitstaande bedragen (mln euro's)</td>\n",
       "      <td>Niet-financiële bedrijven</td>\n",
       "      <td>2003-02-01</td>\n",
       "      <td>179109.0</td>\n",
       "    </tr>\n",
       "    <tr>\n",
       "      <th>2</th>\n",
       "      <td>Zakelijke kredietverlening</td>\n",
       "      <td>Uitstaande bedragen (mln euro's)</td>\n",
       "      <td>Niet-financiële bedrijven</td>\n",
       "      <td>2003-03-01</td>\n",
       "      <td>179189.0</td>\n",
       "    </tr>\n",
       "    <tr>\n",
       "      <th>3</th>\n",
       "      <td>Zakelijke kredietverlening</td>\n",
       "      <td>Uitstaande bedragen (mln euro's)</td>\n",
       "      <td>Niet-financiële bedrijven</td>\n",
       "      <td>2003-04-01</td>\n",
       "      <td>180772.0</td>\n",
       "    </tr>\n",
       "    <tr>\n",
       "      <th>4</th>\n",
       "      <td>Zakelijke kredietverlening</td>\n",
       "      <td>Uitstaande bedragen (mln euro's)</td>\n",
       "      <td>Niet-financiële bedrijven</td>\n",
       "      <td>2003-05-01</td>\n",
       "      <td>180102.0</td>\n",
       "    </tr>\n",
       "  </tbody>\n",
       "</table>\n",
       "</div>"
      ],
      "text/plain": [
       "                    Instrument                      InstrumentSub  \\\n",
       "0  Zakelijke kredietverlening   Uitstaande bedragen (mln euro's)    \n",
       "1  Zakelijke kredietverlening   Uitstaande bedragen (mln euro's)    \n",
       "2  Zakelijke kredietverlening   Uitstaande bedragen (mln euro's)    \n",
       "3  Zakelijke kredietverlening   Uitstaande bedragen (mln euro's)    \n",
       "4  Zakelijke kredietverlening   Uitstaande bedragen (mln euro's)    \n",
       "\n",
       "                       Sector   Periode     waarde  \n",
       "0  Niet-financiële bedrijven  2003-01-01  178744.0  \n",
       "1  Niet-financiële bedrijven  2003-02-01  179109.0  \n",
       "2  Niet-financiële bedrijven  2003-03-01  179189.0  \n",
       "3  Niet-financiële bedrijven  2003-04-01  180772.0  \n",
       "4  Niet-financiële bedrijven  2003-05-01  180102.0  "
      ]
     },
     "execution_count": 8,
     "metadata": {},
     "output_type": "execute_result"
    }
   ],
   "source": [
    "df['Periode '] = pd.to_datetime(df['Periode '],format='%Y-%m',errors='coerce',)\n",
    "df.head(5)"
   ]
  },
  {
   "cell_type": "code",
   "execution_count": 9,
   "metadata": {},
   "outputs": [
    {
     "data": {
      "text/plain": [
       "Instrument               object\n",
       "InstrumentSub            object\n",
       "Sector                   object\n",
       "Periode          datetime64[ns]\n",
       "waarde                  float64\n",
       "dtype: object"
      ]
     },
     "execution_count": 9,
     "metadata": {},
     "output_type": "execute_result"
    }
   ],
   "source": [
    "df.dtypes"
   ]
  },
  {
   "cell_type": "markdown",
   "metadata": {},
   "source": [
    "Spaties verwijderen"
   ]
  },
  {
   "cell_type": "code",
   "execution_count": 10,
   "metadata": {},
   "outputs": [
    {
     "data": {
      "text/plain": [
       "0   2003-01-01\n",
       "1   2003-02-01\n",
       "2   2003-03-01\n",
       "3   2003-04-01\n",
       "4   2003-05-01\n",
       "Name: Periode, dtype: datetime64[ns]"
      ]
     },
     "execution_count": 10,
     "metadata": {},
     "output_type": "execute_result"
    }
   ],
   "source": [
    "df.columns = df.columns.str.strip()\n",
    "df['Periode'].head(5)"
   ]
  },
  {
   "cell_type": "markdown",
   "metadata": {},
   "source": [
    "Data inlezen uit Excel"
   ]
  },
  {
   "cell_type": "code",
   "execution_count": 13,
   "metadata": {},
   "outputs": [
    {
     "data": {
      "text/html": [
       "<div>\n",
       "<style scoped>\n",
       "    .dataframe tbody tr th:only-of-type {\n",
       "        vertical-align: middle;\n",
       "    }\n",
       "\n",
       "    .dataframe tbody tr th {\n",
       "        vertical-align: top;\n",
       "    }\n",
       "\n",
       "    .dataframe thead th {\n",
       "        text-align: right;\n",
       "    }\n",
       "</style>\n",
       "<table border=\"1\" class=\"dataframe\">\n",
       "  <thead>\n",
       "    <tr style=\"text-align: right;\">\n",
       "      <th></th>\n",
       "      <th>Instrument</th>\n",
       "      <th>InstrumentSub</th>\n",
       "      <th>Sector</th>\n",
       "      <th>Periode</th>\n",
       "      <th>waarde</th>\n",
       "    </tr>\n",
       "  </thead>\n",
       "  <tbody>\n",
       "    <tr>\n",
       "      <th>0</th>\n",
       "      <td>Zakelijke kredietverlening</td>\n",
       "      <td>Uitstaande bedragen (mln euro's)</td>\n",
       "      <td>Niet-financiële bedrijven</td>\n",
       "      <td>2003-01</td>\n",
       "      <td>178744.0</td>\n",
       "    </tr>\n",
       "    <tr>\n",
       "      <th>1</th>\n",
       "      <td>Zakelijke kredietverlening</td>\n",
       "      <td>Uitstaande bedragen (mln euro's)</td>\n",
       "      <td>Niet-financiële bedrijven</td>\n",
       "      <td>2003-02</td>\n",
       "      <td>179109.0</td>\n",
       "    </tr>\n",
       "    <tr>\n",
       "      <th>2</th>\n",
       "      <td>Zakelijke kredietverlening</td>\n",
       "      <td>Uitstaande bedragen (mln euro's)</td>\n",
       "      <td>Niet-financiële bedrijven</td>\n",
       "      <td>2003-03</td>\n",
       "      <td>179189.0</td>\n",
       "    </tr>\n",
       "    <tr>\n",
       "      <th>3</th>\n",
       "      <td>Zakelijke kredietverlening</td>\n",
       "      <td>Uitstaande bedragen (mln euro's)</td>\n",
       "      <td>Niet-financiële bedrijven</td>\n",
       "      <td>2003-04</td>\n",
       "      <td>180772.0</td>\n",
       "    </tr>\n",
       "    <tr>\n",
       "      <th>4</th>\n",
       "      <td>Zakelijke kredietverlening</td>\n",
       "      <td>Uitstaande bedragen (mln euro's)</td>\n",
       "      <td>Niet-financiële bedrijven</td>\n",
       "      <td>2003-05</td>\n",
       "      <td>180102.0</td>\n",
       "    </tr>\n",
       "  </tbody>\n",
       "</table>\n",
       "</div>"
      ],
      "text/plain": [
       "                   Instrument                     InstrumentSub  \\\n",
       "0  Zakelijke kredietverlening  Uitstaande bedragen (mln euro's)   \n",
       "1  Zakelijke kredietverlening  Uitstaande bedragen (mln euro's)   \n",
       "2  Zakelijke kredietverlening  Uitstaande bedragen (mln euro's)   \n",
       "3  Zakelijke kredietverlening  Uitstaande bedragen (mln euro's)   \n",
       "4  Zakelijke kredietverlening  Uitstaande bedragen (mln euro's)   \n",
       "\n",
       "                      Sector  Periode    waarde  \n",
       "0  Niet-financiële bedrijven  2003-01  178744.0  \n",
       "1  Niet-financiële bedrijven  2003-02  179109.0  \n",
       "2  Niet-financiële bedrijven  2003-03  179189.0  \n",
       "3  Niet-financiële bedrijven  2003-04  180772.0  \n",
       "4  Niet-financiële bedrijven  2003-05  180102.0  "
      ]
     },
     "execution_count": 13,
     "metadata": {},
     "output_type": "execute_result"
    }
   ],
   "source": [
    "xls_file = pd.ExcelFile('kernindicatoren.xlsx')\n",
    "df = pd.read_excel(xls_file,sheet_name='Data', usecols='A, B, C, D, E') #sheet_name=None for all sheets\n",
    "df.head(5)"
   ]
  },
  {
   "cell_type": "markdown",
   "metadata": {},
   "source": [
    "Data inlezen uit een JSON"
   ]
  },
  {
   "cell_type": "code",
   "execution_count": 12,
   "metadata": {},
   "outputs": [
    {
     "ename": "SyntaxError",
     "evalue": "invalid syntax (<ipython-input-12-be15957988bc>, line 4)",
     "output_type": "error",
     "traceback": [
      "\u001b[1;36m  File \u001b[1;32m\"<ipython-input-12-be15957988bc>\"\u001b[1;36m, line \u001b[1;32m4\u001b[0m\n\u001b[1;33m    df['InstrumentSub'] = .str.strip()\u001b[0m\n\u001b[1;37m                          ^\u001b[0m\n\u001b[1;31mSyntaxError\u001b[0m\u001b[1;31m:\u001b[0m invalid syntax\n"
     ]
    }
   ],
   "source": [
    "df = pd.read_json('Kernindicatoren.json', orient='records')\n",
    "df.columns = df.columns.str.strip()\n",
    "df['Instrument'] = df['Instrument'].str.strip()\n",
    "df['InstrumentSub'] = .str.strip()\n",
    "df['Sector'] = df['Sector'].str.strip()\n",
    "df.head(10)"
   ]
  },
  {
   "cell_type": "markdown",
   "metadata": {},
   "source": [
    "### Data schonen \n",
    "\n",
    "Fouten uit data halen"
   ]
  },
  {
   "cell_type": "markdown",
   "metadata": {},
   "source": [
    "Informatie over het dataframe ophalen"
   ]
  },
  {
   "cell_type": "code",
   "execution_count": null,
   "metadata": {},
   "outputs": [],
   "source": [
    "df.info(verbose=True)"
   ]
  },
  {
   "cell_type": "markdown",
   "metadata": {},
   "source": [
    "Cellen met ongeldige waardes identificeren"
   ]
  },
  {
   "cell_type": "code",
   "execution_count": null,
   "metadata": {},
   "outputs": [],
   "source": [
    "df['waarde'] = pd.to_numeric(df['waarde'], errors='coerce')\n",
    "df.isna().sum()"
   ]
  },
  {
   "cell_type": "markdown",
   "metadata": {},
   "source": [
    "Cellen met ongeldige waardes verwijderen, voor het vullen van nan's gebruik df.fillna(x), waarin x de waarde voor de nan is"
   ]
  },
  {
   "cell_type": "code",
   "execution_count": null,
   "metadata": {},
   "outputs": [],
   "source": [
    "df.dropna(how='any', thresh=1, axis=0, subset=['waarde','Instrument'], inplace=False).head(10)"
   ]
  },
  {
   "cell_type": "markdown",
   "metadata": {},
   "source": [
    "NaN waardes interpoleren"
   ]
  },
  {
   "cell_type": "code",
   "execution_count": null,
   "metadata": {},
   "outputs": [],
   "source": [
    "df.head(15).interpolate(method='spline', order=2, limit=5, limit_direction='both', limit_area='inside')"
   ]
  },
  {
   "cell_type": "markdown",
   "metadata": {},
   "source": [
    "Identieke rijen verwijderen"
   ]
  },
  {
   "cell_type": "code",
   "execution_count": null,
   "metadata": {},
   "outputs": [],
   "source": [
    "print(\"Aantal rijen voor verwijderen {}\".format(len(df)))\n",
    "df.drop_duplicates(inplace=True)\n",
    "print(\"Aantal rijen na verwijderen {}\".format(len(df)))"
   ]
  },
  {
   "cell_type": "markdown",
   "metadata": {},
   "source": [
    "Basis statistieken voor de data weergeven (numerieke kolommen)"
   ]
  },
  {
   "cell_type": "code",
   "execution_count": null,
   "metadata": {},
   "outputs": [],
   "source": [
    "df.describe()"
   ]
  },
  {
   "cell_type": "markdown",
   "metadata": {},
   "source": [
    "of handmatig "
   ]
  },
  {
   "cell_type": "code",
   "execution_count": null,
   "metadata": {},
   "outputs": [],
   "source": [
    "print(df.quantile(q=0.9))\n",
    "print(df.max())"
   ]
  },
  {
   "cell_type": "markdown",
   "metadata": {},
   "source": [
    "Data afronden"
   ]
  },
  {
   "cell_type": "code",
   "execution_count": null,
   "metadata": {},
   "outputs": [],
   "source": [
    "df.round({'waarde' : -1}).head(5)"
   ]
  },
  {
   "cell_type": "markdown",
   "metadata": {},
   "source": [
    "Data discreet maken"
   ]
  },
  {
   "cell_type": "code",
   "execution_count": null,
   "metadata": {},
   "outputs": [],
   "source": [
    "pd.cut(df['waarde'], bins=[0,1e1,1e2,1e3,1e4,1e5,1e6,1e7],precision =2, retbins=True,  duplicates='drop')[0].head(5)"
   ]
  },
  {
   "cell_type": "markdown",
   "metadata": {},
   "source": [
    "### Data indexeren en combineren \n",
    "\n",
    "Data indexeren op basis van labels of een boolean index"
   ]
  },
  {
   "cell_type": "code",
   "execution_count": null,
   "metadata": {},
   "outputs": [],
   "source": [
    "df.loc[df['InstrumentSub'].isna()]"
   ]
  },
  {
   "cell_type": "code",
   "execution_count": null,
   "metadata": {},
   "outputs": [],
   "source": [
    "df.loc[df['Periode ']=='2006-06']"
   ]
  },
  {
   "cell_type": "markdown",
   "metadata": {},
   "source": [
    "Data selecteren aan de hand van een integer index"
   ]
  },
  {
   "cell_type": "code",
   "execution_count": null,
   "metadata": {},
   "outputs": [],
   "source": [
    "df.iloc[45:55,1:3]"
   ]
  },
  {
   "cell_type": "markdown",
   "metadata": {},
   "source": [
    "Een enkel element selecteren"
   ]
  },
  {
   "cell_type": "code",
   "execution_count": null,
   "metadata": {},
   "outputs": [],
   "source": [
    "df.at[48,'waarde']"
   ]
  },
  {
   "cell_type": "markdown",
   "metadata": {},
   "source": [
    "Chain indexing, een subset van een subset van de data bekijken (niet gebruiken voor het toewijzen van data in een dataframe!)"
   ]
  },
  {
   "cell_type": "code",
   "execution_count": null,
   "metadata": {},
   "outputs": [],
   "source": [
    "df.loc[df['Periode']=='2006-06'].loc[:,'waarde']"
   ]
  },
  {
   "cell_type": "markdown",
   "metadata": {},
   "source": [
    "Filteren met behulp van Python syntax"
   ]
  },
  {
   "cell_type": "code",
   "execution_count": null,
   "metadata": {},
   "outputs": [],
   "source": [
    "df2 = df.dropna()\n",
    "df2[np.bitwise_and(np.bitwise_and(\n",
    "                           np.array(['hypot' in x for x in df2['Instrument'].str.lower()])\n",
    "                          ,np.array(['rente' in x for x in df2['InstrumentSub'].str.lower()]))\n",
    "                  ,np.bitwise_or((df2['waarde'] >= 5.5)\n",
    "                                ,(df2['waarde'] < 2)))]"
   ]
  },
  {
   "cell_type": "markdown",
   "metadata": {},
   "source": [
    "De index opnieuw aanmaken"
   ]
  },
  {
   "cell_type": "code",
   "execution_count": null,
   "metadata": {},
   "outputs": [],
   "source": [
    "df2 = df.set_index(['Instrument','InstrumentSub','Sector','Periode'],append=False)\n",
    "df2.head(20)"
   ]
  },
  {
   "cell_type": "markdown",
   "metadata": {},
   "source": [
    "De index gebruiken voor het selecteren"
   ]
  },
  {
   "cell_type": "code",
   "execution_count": null,
   "metadata": {},
   "outputs": [],
   "source": [
    "df2.loc['Consumptief krediet',:,'Huishoudens','2006-06' ]"
   ]
  },
  {
   "cell_type": "markdown",
   "metadata": {},
   "source": [
    "Index maken en aanvullen"
   ]
  },
  {
   "cell_type": "code",
   "execution_count": null,
   "metadata": {},
   "outputs": [],
   "source": [
    "df['Periode'] = pd.to_datetime(df['Periode'],format='%Y-%m',errors='coerce',)\n",
    "df2 = df.set_index('Periode').head(20).reindex(pd.date_range('1/1/2002', periods=240, freq='MS'))\n",
    "print(df2.loc['2002-05-01'])\n",
    "print('')\n",
    "print(df2.loc['2003-05-01'])"
   ]
  },
  {
   "cell_type": "markdown",
   "metadata": {},
   "source": [
    "Verschillende dataframes aan elkaar toevoegen "
   ]
  },
  {
   "cell_type": "code",
   "execution_count": null,
   "metadata": {},
   "outputs": [],
   "source": [
    "df1 = df.tail(10)\n",
    "df2 = df.head(10)\n",
    "df1.append(df2, ignore_index=False, sort=False)"
   ]
  },
  {
   "cell_type": "markdown",
   "metadata": {},
   "source": [
    "Databronnen die samengevoegd moeten worden"
   ]
  },
  {
   "cell_type": "code",
   "execution_count": null,
   "metadata": {},
   "outputs": [],
   "source": [
    "raw_data_a = {\n",
    "        'account_id': ['0', '1', '2', '3', '4'],\n",
    "        'datum': ['2009-12', '2010-01', '2009-12', '2010-01', '2010-01'],\n",
    "        'type': ['Consumptief krediet', 'Woninghypotheken', 'Zakelijke kredietverlening', 'Woninghypotheken', 'Zakelijke kredietverlening'],\n",
    "        'initieel bedrag': [5218, 268000, 30000, 415000, 235400]}\n",
    "df_a = pd.DataFrame(raw_data_a, columns = ['account_id', 'datum', 'type', 'initieel bedrag'])\n",
    "print(df_a)\n",
    "print('')\n",
    "raw_data_b = {\n",
    "        'account_id': ['0', '0', '1', '3', '0', '2', '1', '3', '3', '2','5'],\n",
    "        'datum': ['2009-12', '2010-01', '2010-01', '2010-01', '2010-01', '2010-01', '2010-02', '2010-02', '2010-02', '2010-02', '2010-02'],\n",
    "        'afbetaling': [211, 516, 245, 189, 520, 110, 548, 328, 1065, 985, 1050],\n",
    "        'type': ['standaard', 'standaard', 'standaard', 'standaard', 'extra', 'standaard', 'standaard', 'standaard', 'extra', 'standaard', 'standaard']}\n",
    "df_b = pd.DataFrame(raw_data_b, columns = ['account_id', 'datum', 'afbetaling','type'])\n",
    "print(df_b)"
   ]
  },
  {
   "cell_type": "markdown",
   "metadata": {},
   "source": [
    "Samenvoegen van tabellen via merge"
   ]
  },
  {
   "cell_type": "code",
   "execution_count": null,
   "metadata": {},
   "outputs": [],
   "source": [
    "pd.merge(df_a, df_b, how='outer', left_on=['account_id', 'datum'], right_on=['account_id', 'datum'],suffixes=('_a', '_b'),indicator=True)"
   ]
  },
  {
   "cell_type": "markdown",
   "metadata": {},
   "source": [
    "### Data analyseren \n",
    "\n",
    "Data sorteren"
   ]
  },
  {
   "cell_type": "code",
   "execution_count": null,
   "metadata": {},
   "outputs": [],
   "source": [
    "df.sort_values(by=['Periode','Sector'], ascending=True, na_position='last').tail(15)"
   ]
  },
  {
   "cell_type": "markdown",
   "metadata": {},
   "source": [
    "Kolom toevoegen"
   ]
  },
  {
   "cell_type": "code",
   "execution_count": null,
   "metadata": {},
   "outputs": [],
   "source": [
    "df['waarde - 10'] = df['waarde'] - 10 \n",
    "df.head(5)"
   ]
  },
  {
   "cell_type": "markdown",
   "metadata": {},
   "source": [
    "Kolommen of rijen laten vallen"
   ]
  },
  {
   "cell_type": "code",
   "execution_count": null,
   "metadata": {},
   "outputs": [],
   "source": [
    "df.drop(columns=['waarde - 10'], inplace=True)\n",
    "df.head(5)"
   ]
  },
  {
   "cell_type": "markdown",
   "metadata": {},
   "source": [
    "Pivot tabel maken"
   ]
  },
  {
   "cell_type": "code",
   "execution_count": null,
   "metadata": {},
   "outputs": [],
   "source": [
    "pd.pivot_table(df, values=['waarde'], index=['Periode', 'InstrumentSub'], aggfunc={'waarde': [min, max, sum]}).tail(20)"
   ]
  },
  {
   "cell_type": "markdown",
   "metadata": {},
   "source": [
    "Maken van een lopend gemiddelde"
   ]
  },
  {
   "cell_type": "code",
   "execution_count": null,
   "metadata": {},
   "outputs": [],
   "source": [
    "df_uitstaande = df[df['InstrumentSub']=='Uitstaande bedragen (mln euros) '].copy()\n",
    "df_uitstaande['lopende gemiddelde'] = df_uitstaande['waarde'].rolling(6, min_periods=4).mean()\n",
    "df_uitstaande.head(12)"
   ]
  },
  {
   "cell_type": "markdown",
   "metadata": {},
   "source": [
    "Data combineren uit verschillende dataframes"
   ]
  },
  {
   "cell_type": "code",
   "execution_count": null,
   "metadata": {},
   "outputs": [],
   "source": [
    "df_a = df_uitstaande.copy()\n",
    "df_a = df_a.set_index(['Instrument','InstrumentSub','Sector','Periode'],append=False)\n",
    "\n",
    "df_b = df_uitstaande.copy()\n",
    "df_b = df_b.set_index(['Instrument','InstrumentSub','Sector','Periode'],append=False)\n",
    "df_b['waarde'] = df_b['lopende gemiddelde']\n",
    "\n",
    "df_a.combine(df_b, np.minimum, fill_value = 8).head(10)"
   ]
  },
  {
   "cell_type": "markdown",
   "metadata": {},
   "source": [
    "Aantal keren tellen dat een waarde voorkomt"
   ]
  },
  {
   "cell_type": "code",
   "execution_count": null,
   "metadata": {},
   "outputs": [],
   "source": [
    "df['waarde'].value_counts(bins=10,dropna=True,normalize=True)"
   ]
  },
  {
   "cell_type": "markdown",
   "metadata": {},
   "source": [
    "Data grouperen"
   ]
  },
  {
   "cell_type": "code",
   "execution_count": null,
   "metadata": {},
   "outputs": [],
   "source": [
    "df.groupby(['Instrument','InstrumentSub']).agg({'waarde': [np.min, np.max, np.mean]})"
   ]
  },
  {
   "cell_type": "markdown",
   "metadata": {},
   "source": [
    "Berekeningen toepassen op elke rij/kolom"
   ]
  },
  {
   "cell_type": "code",
   "execution_count": null,
   "metadata": {},
   "outputs": [],
   "source": [
    "df.apply(\n",
    "    lambda x: [x['waarde'] + 3, 1] if x['Periode'] < pd.to_datetime(\"2015-01-01\") else [x['waarde']-3, -1]\n",
    "    , axis=1, raw=True, result_type='expand')"
   ]
  },
  {
   "cell_type": "markdown",
   "metadata": {},
   "source": [
    "Over de rijen van een dataframe ittereren"
   ]
  },
  {
   "cell_type": "code",
   "execution_count": null,
   "metadata": {},
   "outputs": [],
   "source": [
    "for index, row in df.iterrows():\n",
    "    if index % 1000 == 0:\n",
    "        df.at[index,'waarde'] = 0\n",
    "        print(row)"
   ]
  },
  {
   "cell_type": "markdown",
   "metadata": {},
   "source": [
    "Data plotten"
   ]
  },
  {
   "cell_type": "code",
   "execution_count": null,
   "metadata": {},
   "outputs": [],
   "source": [
    "df['waarde'].plot()"
   ]
  },
  {
   "cell_type": "code",
   "execution_count": null,
   "metadata": {},
   "outputs": [],
   "source": [
    "df_a = df[df['Instrument']=='Woninghypotheken'].dropna()\n",
    "df_a = df_a[df_a['InstrumentSub'].str.contains('Rente op uit')].set_index('Periode')\n",
    "\n",
    "df_b = df[df['Instrument']=='Zakelijke kredietverlening'].dropna()\n",
    "df_b = df_b[df_b['InstrumentSub'].str.contains('Rente op uit')].set_index('Periode')\n",
    "\n",
    "df_c = pd.merge(df_b,df_a, how='inner', left_on=['Periode'], right_on=['Periode'], suffixes=('_c','_b'))\n",
    "df_c.plot.scatter(x='waarde_c',y='waarde_b', alpha=0.5)"
   ]
  },
  {
   "cell_type": "code",
   "execution_count": null,
   "metadata": {
    "scrolled": true
   },
   "outputs": [],
   "source": [
    "import matplotlib.pyplot as plt\n",
    "plt.rcParams['figure.figsize'] = [10, 5]\n",
    "df[df['Periode ']=='2010-06'].plot.bar(y='waarde',x='InstrumentSub')"
   ]
  },
  {
   "cell_type": "code",
   "execution_count": null,
   "metadata": {
    "scrolled": true
   },
   "outputs": [],
   "source": [
    "df.drop(columns=['Periode']).plot.hist(bins=20, density=False)"
   ]
  },
  {
   "cell_type": "markdown",
   "metadata": {},
   "source": [
    "### Data wegschrijven \n",
    "\n",
    "Data die je in Python heb gebruikt wegschrijven om later weer te gebruiken of in andere programma's te gebruiken"
   ]
  },
  {
   "cell_type": "markdown",
   "metadata": {},
   "source": [
    "Data wegschrijven om later te gebruiken"
   ]
  },
  {
   "cell_type": "code",
   "execution_count": null,
   "metadata": {},
   "outputs": [],
   "source": [
    "df.to_pickle('results.pkl')"
   ]
  },
  {
   "cell_type": "markdown",
   "metadata": {},
   "source": [
    "Data wegschrijven als een csv"
   ]
  },
  {
   "cell_type": "code",
   "execution_count": null,
   "metadata": {},
   "outputs": [],
   "source": [
    "df.to_csv('results.csv', index=False, decimal=',', sep='\\t')"
   ]
  },
  {
   "cell_type": "markdown",
   "metadata": {},
   "source": [
    "Data wegschrijven naar Excel"
   ]
  },
  {
   "cell_type": "code",
   "execution_count": null,
   "metadata": {},
   "outputs": [],
   "source": [
    "with pd.ExcelWriter('results.xlsx') as writer:  \n",
    "    df[df['Instrument']=='Woninghypotheken'].to_excel(writer, sheet_name='Woninghypotheken')\n",
    "    df[df['Instrument']=='Zakelijke kredietverlening'].to_excel(writer, sheet_name='Zakelijke kredietverlening')"
   ]
  }
 ],
 "metadata": {
  "kernelspec": {
   "display_name": "Python 3",
   "language": "python",
   "name": "python3"
  },
  "language_info": {
   "codemirror_mode": {
    "name": "ipython",
    "version": 3
   },
   "file_extension": ".py",
   "mimetype": "text/x-python",
   "name": "python",
   "nbconvert_exporter": "python",
   "pygments_lexer": "ipython3",
   "version": "3.7.0"
  }
 },
 "nbformat": 4,
 "nbformat_minor": 2
}
