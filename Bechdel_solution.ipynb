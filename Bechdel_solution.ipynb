{
  "nbformat": 4,
  "nbformat_minor": 0,
  "metadata": {
    "colab": {
      "name": "Bechdel.ipynb",
      "provenance": [],
      "collapsed_sections": [],
      "authorship_tag": "ABX9TyMja8PbQmiIL/DdHDGFCNyC",
      "include_colab_link": true
    },
    "kernelspec": {
      "name": "python3",
      "display_name": "Python 3"
    },
    "language_info": {
      "name": "python"
    }
  },
  "cells": [
    {
      "cell_type": "markdown",
      "metadata": {
        "id": "view-in-github",
        "colab_type": "text"
      },
      "source": [
        "<a href=\"https://colab.research.google.com/github/mnijhuis-dnb/open_source_workshop/blob/master/Bechdel_solution.ipynb\" target=\"_parent\"><img src=\"https://colab.research.google.com/assets/colab-badge.svg\" alt=\"Open In Colab\"/></a>"
      ]
    },
    {
      "cell_type": "markdown",
      "metadata": {
        "id": "1ulHOtJGe6gE"
      },
      "source": [
        "Load the packages, including the urllib & json for getting the data"
      ]
    },
    {
      "cell_type": "code",
      "metadata": {
        "id": "_Gw3PWuA3GKH"
      },
      "source": [
        "import urllib.request, json\n",
        "import pandas as pd\n",
        "import numpy as np\n",
        "import matplotlib.pyplot as plt"
      ],
      "execution_count": null,
      "outputs": []
    },
    {
      "cell_type": "markdown",
      "metadata": {
        "id": "LqvSefTHfG9r"
      },
      "source": [
        "retrieve the data from the JSON and read it in a dataframe"
      ]
    },
    {
      "cell_type": "code",
      "metadata": {
        "id": "KCcCrp8i4BUU"
      },
      "source": [
        "df = pd.read_json('http://bechdeltest.com/api/v1/getAllMovies')\n",
        "# if using the offline data\n",
        "# df = pd.read_json('Bechdel.json')"
      ],
      "execution_count": null,
      "outputs": []
    },
    {
      "cell_type": "markdown",
      "metadata": {
        "id": "NGGyixWOhjLU"
      },
      "source": [
        "Show what is in the data"
      ]
    },
    {
      "cell_type": "code",
      "metadata": {
        "id": "EkVbOygp4RiE"
      },
      "source": [
        "df.head()"
      ],
      "execution_count": null,
      "outputs": []
    },
    {
      "cell_type": "markdown",
      "metadata": {
        "id": "bpPB8GRchmvr"
      },
      "source": [
        "Make a pivot table of the data"
      ]
    },
    {
      "cell_type": "code",
      "metadata": {
        "id": "tauNhAyk4XoC"
      },
      "source": [
        "df_pivot = pd.pivot_table(df, values='id', index='year', columns='rating', aggfunc='count').fillna(0)"
      ],
      "execution_count": null,
      "outputs": []
    },
    {
      "cell_type": "markdown",
      "metadata": {
        "id": "aaoa5J_jhqqM"
      },
      "source": [
        "Show the resulting table"
      ]
    },
    {
      "cell_type": "code",
      "metadata": {
        "id": "tn3Ae6U6hrMs"
      },
      "source": [
        "df_pivot.head()"
      ],
      "execution_count": null,
      "outputs": []
    },
    {
      "cell_type": "markdown",
      "metadata": {
        "id": "s5y-RbSNhqK8"
      },
      "source": [
        "Try and plot the data"
      ]
    },
    {
      "cell_type": "code",
      "metadata": {
        "id": "fb2bFxKh7pSD"
      },
      "source": [
        "df_pivot.plot()"
      ],
      "execution_count": null,
      "outputs": []
    },
    {
      "cell_type": "markdown",
      "metadata": {
        "id": "MKgYUFdAt8TG"
      },
      "source": [
        "Make a integer which indicates which decade we are in"
      ]
    },
    {
      "cell_type": "code",
      "metadata": {
        "id": "20jx_VPs7wit"
      },
      "source": [
        "df_pivot['year10'] = np.floor(np.array(df_pivot.index)/10)"
      ],
      "execution_count": null,
      "outputs": []
    },
    {
      "cell_type": "markdown",
      "metadata": {
        "id": "cHpfk-LluCi1"
      },
      "source": [
        "Filter on the decades with enough data"
      ]
    },
    {
      "cell_type": "code",
      "metadata": {
        "id": "BKEfNAmMGK1h"
      },
      "source": [
        "df_pivot = df_pivot[(df_pivot['year10']>182) & (df_pivot['year10']<212)]"
      ],
      "execution_count": null,
      "outputs": []
    },
    {
      "cell_type": "markdown",
      "metadata": {
        "id": "gIcKsj4GuJXF"
      },
      "source": [
        "Make a pivot table to compound the data"
      ]
    },
    {
      "cell_type": "code",
      "metadata": {
        "id": "haiutla1Ouns"
      },
      "source": [
        "df10 = df_pivot.groupby(by='year10').sum()"
      ],
      "execution_count": null,
      "outputs": []
    },
    {
      "cell_type": "markdown",
      "metadata": {
        "id": "rD-up3EluV9e"
      },
      "source": [
        "Show the resulting data"
      ]
    },
    {
      "cell_type": "code",
      "metadata": {
        "id": "xeHemnEEiAZz"
      },
      "source": [
        "df10"
      ],
      "execution_count": null,
      "outputs": []
    },
    {
      "cell_type": "markdown",
      "metadata": {
        "id": "5kGFXZrnuYm9"
      },
      "source": [
        "Change from numbers to a percentage of the movies of each decade"
      ]
    },
    {
      "cell_type": "code",
      "metadata": {
        "id": "6UvEsHSwWmsy"
      },
      "source": [
        "df10 = df10.apply(lambda x: x/df10.sum(axis=1), axis=0)"
      ],
      "execution_count": null,
      "outputs": []
    },
    {
      "cell_type": "markdown",
      "metadata": {
        "id": "5KnFZzzruaSG"
      },
      "source": [
        "Make a plot"
      ]
    },
    {
      "cell_type": "code",
      "metadata": {
        "id": "tQbVbYnOPvi0"
      },
      "source": [
        "# Generate a figure with 9 subplots, with shared x and y\n",
        "fig, ax = plt.subplots(nrows = 3, ncols = 3, tight_layout=True, figsize=(16,8), sharex=True, sharey=True)\n",
        "\n",
        "# Make 4 colors for the plot \n",
        "colors = [(0, 85/255, 102/255),(0, 138/255, 166/255),(0, 170/255, 204/255),(0, 192/255, 232/255)]\n",
        "\n",
        "# Set the labels for the 4 categories\n",
        "labels = ['Less than 2 women','2 or more women','2 women have a conversation','2 women have a conversation not about a man']\n",
        "\n",
        "# Loop over the subplots\n",
        "for idx, axes in enumerate(ax.flatten()):\n",
        "  # Plot a horizontal bar for each of the decadeds\n",
        "  bars = axes.barh(df10.columns, width=df10.iloc[idx], height=0.9, color = colors)\n",
        "  # Set the title of each subplot to the decade\n",
        "  axes.set_title(f'{int(df10.index[idx]*10)}\\'s')\n",
        "  # Remove the spines\n",
        "  axes.spines[\"right\"].set_visible(False) \n",
        "  axes.spines[\"top\"].set_visible(False) \n",
        "  axes.spines[\"bottom\"].set_visible(False) \n",
        "  # Remove the ticks\n",
        "  axes.tick_params(top=False, \n",
        "               bottom=False, \n",
        "               left=False, \n",
        "               right=False, \n",
        "               labelleft=False, \n",
        "               labelbottom=False)\n",
        "  # Add a percentage to the bars\n",
        "  for bar in bars:\n",
        "        text_x = bar.get_width() - 0.05\n",
        "        text_y = bar.get_y() + bar.get_height() / 2\n",
        "        axes.text(text_x, \n",
        "                text_y, \n",
        "                '{:.0%}'.format(bar.get_width()), \n",
        "                va='center', \n",
        "                color='white', \n",
        "                fontsize=12)        \n",
        "\n",
        "# Make a legend\n",
        "handles = [plt.Rectangle((0,0),1,1, color = color_label) for color_label in colors]\n",
        "fig.legend(handles, labels, loc='center', bbox_to_anchor=(0.5,-.05), ncol=4, prop={'size': 14}, bbox_transform = plt.gcf().transFigure)"
      ],
      "execution_count": null,
      "outputs": []
    }
  ]
}