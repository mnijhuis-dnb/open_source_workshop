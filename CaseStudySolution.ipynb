{
  "nbformat": 4,
  "nbformat_minor": 0,
  "metadata": {
    "colab": {
      "name": "CaseStudy.ipynb",
      "provenance": [],
      "collapsed_sections": [],
      "include_colab_link": true
    },
    "kernelspec": {
      "name": "python3",
      "display_name": "Python 3"
    }
  },
  "cells": [
    {
      "cell_type": "markdown",
      "metadata": {
        "id": "view-in-github",
        "colab_type": "text"
      },
      "source": [
        "<a href=\"https://colab.research.google.com/github/mnijhuis-dnb/open_source_workshop/blob/master/CaseStudySolution.ipynb\" target=\"_parent\"><img src=\"https://colab.research.google.com/assets/colab-badge.svg\" alt=\"Open In Colab\"/></a>"
      ]
    },
    {
      "cell_type": "code",
      "metadata": {
        "id": "ergY4Tzdz5eO",
        "colab_type": "code",
        "colab": {}
      },
      "source": [
        "import requests\n",
        "\n",
        "def download_files(id, destination):\n",
        "    URL = \"https://docs.google.com/uc?export=download\"\n",
        "\n",
        "    session = requests.Session()\n",
        "\n",
        "    response = session.get(URL, params = { 'id' : id }, stream = True)\n",
        "    token = get_confirm_token(response)\n",
        "\n",
        "    if token:\n",
        "        params = { 'id' : id, 'confirm' : token }\n",
        "        response = session.get(URL, params = params, stream = True)\n",
        "\n",
        "    save_response_content(response, destination)    \n",
        "\n",
        "def get_confirm_token(response):\n",
        "    for key, value in response.cookies.items():\n",
        "        if key.startswith('download_warning'):\n",
        "            return value\n",
        "\n",
        "    return None\n",
        "\n",
        "def save_response_content(response, destination):\n",
        "    CHUNK_SIZE = 32768\n",
        "\n",
        "    with open(destination, \"wb\") as f:\n",
        "        for chunk in response.iter_content(CHUNK_SIZE):\n",
        "            if chunk: # filter out keep-alive new chunks\n",
        "                f.write(chunk)"
      ],
      "execution_count": null,
      "outputs": []
    },
    {
      "cell_type": "code",
      "metadata": {
        "id": "Tz2BJezE1h4O",
        "colab_type": "code",
        "colab": {}
      },
      "source": [
        "file_Global_mobility_report = '/Global_mobility_report.csv'\n",
        "file_PPP_Loan_data = '/PPP_Loan_data.csv'\n",
        "file_US_zips = '/uszips.xslx'\n",
        "\n",
        "# download_files('1Fe73x8Splw9xY5FOTnpLWENJaBU2tHEy', file_NAICS)\n",
        "download_files('1d4C6sTuD53tc_Ewbfb1iXascKzDSzDl0', file_Global_mobility_report)\n",
        "# download_files('1KzT1XNA9K0enUv73nwPSkBYp7btg0pvJ', file_US_Hours_Worked)\n",
        "download_files('1_7s1tH7FVNA5s5gu1vcWxikmGYQ2ryvn', file_PPP_Loan_data)\n",
        "download_files('1f-ru7e4Ml0d5uzOMGtNpmOQ3kGSr7iT_', file_US_zips)"
      ],
      "execution_count": null,
      "outputs": []
    },
    {
      "cell_type": "code",
      "metadata": {
        "id": "pU0KM0cD1po9",
        "colab_type": "code",
        "colab": {}
      },
      "source": [
        "import pandas as pd\n",
        "import numpy as np\n",
        "import matplotlib.pyplot as plt"
      ],
      "execution_count": null,
      "outputs": []
    },
    {
      "cell_type": "code",
      "metadata": {
        "id": "kAkgyfjrZuRM",
        "colab_type": "code",
        "colab": {}
      },
      "source": [
        "df_zips = pd.read_excel(file_US_zips)\n",
        "df_zips = df_zips[['zip','county_fips','population']]"
      ],
      "execution_count": null,
      "outputs": []
    },
    {
      "cell_type": "code",
      "metadata": {
        "id": "VpD67u6FwuWi",
        "colab_type": "code",
        "colab": {
          "base_uri": "https://localhost:8080/",
          "height": 343
        },
        "outputId": "23b46a26-59c0-4bd8-da63-8303ce619583"
      },
      "source": [
        "df_mob = pd.read_csv(file_Global_mobility_report)\n",
        "df_mob = df_mob.loc[df_mob['country_region_code']=='US']\n",
        "df_mob.drop(columns=['country_region_code','country_region','iso_3166_2_code'], inplace=True)\n",
        "df_mob.dropna(subset=['census_fips_code'], inplace= True)\n",
        "#df_mob = pd.merge(df_mob, df_zips, how='inner', left_on='census_fips_code', right_on='county_fips')\n",
        "df_mob.head()"
      ],
      "execution_count": null,
      "outputs": []
    },
    {
      "cell_type": "code",
      "metadata": {
        "id": "iIQcSIpuxJdh",
        "colab_type": "code",
        "cellView": "code",
        "colab": {}
      },
      "source": [
        "df_PPP = pd.read_csv(file_PPP_Loan_data, low_memory=False)\n",
        "df_PPP.drop(columns=['Unnamed: 0', 'BusinessType', 'Address', 'BusinessName', 'CD', 'City', 'DateApproved', 'Lender', 'State', 'Gender', 'NonProfit', 'Veteran','RaceEthnicity'], inplace=True)\n",
        "df_PPP['LoanAmount'] = pd.to_numeric(df_PPP['LoanAmount'], errors='coerce')\n",
        "df_PPP['JobsRetained'] = pd.to_numeric(df_PPP['JobsRetained'], errors='coerce')"
      ],
      "execution_count": null,
      "outputs": []
    },
    {
      "cell_type": "code",
      "metadata": {
        "id": "UKExNbZBx7cm",
        "colab_type": "code",
        "colab": {
          "base_uri": "https://localhost:8080/",
          "height": 51
        },
        "outputId": "43425a28-ad2c-43a0-ea25-e2f4bfb1d6c8"
      },
      "source": [
        "print(df_PPP['LoanRange'].unique())"
      ],
      "execution_count": null,
      "outputs": []
    },
    {
      "cell_type": "code",
      "metadata": {
        "id": "d9FREAqnxFAE",
        "colab_type": "code",
        "colab": {}
      },
      "source": [
        "df_PPP.loc[df_PPP['LoanRange']=='a $5-10 million','LoanRange'] = 7000000\n",
        "df_PPP.loc[df_PPP['LoanRange']=='b $2-5 million','LoanRange'] = 3000000\n",
        "df_PPP.loc[df_PPP['LoanRange']=='c $1-2 million','LoanRange'] = 1500000\n",
        "df_PPP.loc[df_PPP['LoanRange']=='d $350,000-1 million','LoanRange'] = 700000\n",
        "df_PPP.loc[df_PPP['LoanRange']=='e $150,000-350,000','LoanRange'] = 250000\n",
        "df_PPP['LoanRange'] = pd.to_numeric(df_PPP['LoanRange'], errors='coerce')"
      ],
      "execution_count": null,
      "outputs": []
    },
    {
      "cell_type": "code",
      "metadata": {
        "id": "b6pOIx7uxEwj",
        "colab_type": "code",
        "colab": {}
      },
      "source": [
        "df_PPP['LoanRange'].fillna(0,inplace=True)\n",
        "df_PPP['LoanAmount'].fillna(0,inplace=True)\n",
        "df_PPP['LoanAmount'] = df_PPP['LoanAmount'] + df_PPP['LoanRange']\n",
        "df_PPP.drop(columns='LoanRange',inplace=True)"
      ],
      "execution_count": null,
      "outputs": []
    },
    {
      "cell_type": "code",
      "metadata": {
        "id": "CeuAQuvuDPd0",
        "colab_type": "code",
        "colab": {}
      },
      "source": [
        "df_mob['change_neg'] = df_mob[['retail_and_recreation_percent_change_from_baseline', 'transit_stations_percent_change_from_baseline', 'workplaces_percent_change_from_baseline']].mean(axis=1)\n",
        "df_mob['change_pos'] = df_mob[['parks_percent_change_from_baseline', 'residential_percent_change_from_baseline']].mean(axis=1)\n",
        "#df_mob.drop(columns=df_mob.columns[5:-1], inplace=True)\n",
        "df_mob[['metro_area', 'sub_region_2']] = df_mob[['metro_area', 'sub_region_2']].fillna('-')\n",
        "df_mob = df_mob.groupby(by=['census_fips_code', 'metro_area', 'sub_region_1', 'sub_region_2']).mean().reset_index()"
      ],
      "execution_count": null,
      "outputs": []
    },
    {
      "cell_type": "code",
      "metadata": {
        "id": "TKSQ2u9avNOn",
        "colab_type": "code",
        "colab": {}
      },
      "source": [
        "df_PPP = pd.pivot_table(df_PPP, values=['JobsRetained','LoanAmount'], index='Zip').reset_index()"
      ],
      "execution_count": null,
      "outputs": []
    },
    {
      "cell_type": "code",
      "metadata": {
        "id": "KJVDCRyO18YU",
        "colab_type": "code",
        "colab": {
          "base_uri": "https://localhost:8080/",
          "height": 498
        },
        "outputId": "19fd42d7-ec26-4c0e-9b0e-bda1e0321a7e"
      },
      "source": [
        "df_combined = pd.merge(df_PPP, df_zips, how='left', left_on='Zip', right_on='zip').drop(columns=['zip','Zip'])\n",
        "df_combined = pd.pivot_table(df_combined, values=['JobsRetained','LoanAmount','population'], index='county_fips', aggfunc='sum').reset_index()\n",
        "df_combined = pd.merge(df_combined, df_mob, how='left', left_on='county_fips', right_on='census_fips_code').drop(columns=['county_fips','census_fips_code'])\n",
        "df_combined.head(10)"
      ],
      "execution_count": null,
      "outputs": []
    },
    {
      "cell_type": "code",
      "metadata": {
        "id": "UO4F-s0MaMPJ",
        "colab_type": "code",
        "colab": {}
      },
      "source": [
        "df_combined['JobsRetained'] = df_combined['JobsRetained']/df_combined['population']*1000\n",
        "df_combined['LoanAmount'] = df_combined['LoanAmount']/df_combined['population']\n",
        "df_combined = df_combined.loc[df_combined['population'] > 10000]"
      ],
      "execution_count": null,
      "outputs": []
    },
    {
      "cell_type": "code",
      "metadata": {
        "id": "SsdwqonHvs2L",
        "colab_type": "code",
        "colab": {
          "base_uri": "https://localhost:8080/",
          "height": 1000
        },
        "outputId": "881a3e35-8031-4824-d691-c334d25bfc66"
      },
      "source": [
        "import matplotlib.pyplot as plt\n",
        "plt.rcParams['figure.figsize'] = [16, 9]\n",
        "plot = df_combined.loc[df_combined['LoanAmount']<20].plot.scatter(x='LoanAmount', y='retail_and_recreation_percent_change_from_baseline', alpha=0.2)\n",
        "df_combined.loc[df_combined['LoanAmount']<20].plot.scatter(x='LoanAmount', y='transit_stations_percent_change_from_baseline', alpha=0.2)\n",
        "df_combined.loc[df_combined['LoanAmount']<20].plot.scatter(x='LoanAmount', y='workplaces_percent_change_from_baseline', alpha=0.2)\n",
        "df_combined.loc[df_combined['LoanAmount']<20].plot.scatter(x='LoanAmount', y='grocery_and_pharmacy_percent_change_from_baseline', alpha=0.2)\n",
        "df_combined.loc[df_combined['LoanAmount']<20].plot.scatter(x='LoanAmount', y='residential_percent_change_from_baseline', alpha=0.2)\n",
        "df_combined.loc[df_combined['LoanAmount']<20].plot.scatter(x='LoanAmount', y='parks_percent_change_from_baseline', alpha=0.2)\n",
        "df_combined.loc[df_combined['LoanAmount']<20].plot.scatter(x='LoanAmount', y='change_pos', alpha=0.2)\n",
        "df_combined.loc[df_combined['LoanAmount']<20].plot.scatter(x='LoanAmount', y='change_neg', alpha=0.2)"
      ],
      "execution_count": null,
      "outputs": []
    },
    {
      "cell_type": "code",
      "metadata": {
        "id": "uh7hpctPFABy",
        "colab_type": "code",
        "colab": {
          "base_uri": "https://localhost:8080/",
          "height": 410
        },
        "outputId": "eabfc52d-02b2-4322-a0d5-b563f6f5bbf1"
      },
      "source": [
        "df_combined.corr()"
      ],
      "execution_count": null,
      "outputs": []
    },
    {
      "cell_type": "code",
      "metadata": {
        "id": "5uSd_qdSYIZb",
        "colab_type": "code",
        "colab": {
          "base_uri": "https://localhost:8080/",
          "height": 359
        },
        "outputId": "28d2827f-d67b-4a80-d86c-7970aaf693b7"
      },
      "source": [
        "col_combined = df_combined.columns[6:]\n",
        "df_combined.sort_values(by=['residential_percent_change_from_baseline'] , ascending=False, na_position='last').drop(columns=col_combined.drop('residential_percent_change_from_baseline')).head(10)"
      ],
      "execution_count": null,
      "outputs": []
    },
    {
      "cell_type": "code",
      "metadata": {
        "id": "jgxui4WYYcui",
        "colab_type": "code",
        "colab": {
          "base_uri": "https://localhost:8080/",
          "height": 359
        },
        "outputId": "1002e175-7634-4dde-8602-62f408a0e2f5"
      },
      "source": [
        "df_combined.sort_values(by=['workplaces_percent_change_from_baseline'] , ascending=True, na_position='last').drop(columns=col_combined.drop('workplaces_percent_change_from_baseline')).head(10)"
      ],
      "execution_count": null,
      "outputs": []
    }
  ]
}
