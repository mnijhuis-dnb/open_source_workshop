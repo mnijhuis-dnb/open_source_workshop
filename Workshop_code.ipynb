{
  "nbformat": 4,
  "nbformat_minor": 0,
  "metadata": {
    "kernelspec": {
      "display_name": "Python 3",
      "language": "python",
      "name": "python3"
    },
    "language_info": {
      "codemirror_mode": {
        "name": "ipython",
        "version": 3
      },
      "file_extension": ".py",
      "mimetype": "text/x-python",
      "name": "python",
      "nbconvert_exporter": "python",
      "pygments_lexer": "ipython3",
      "version": "3.7.4"
    },
    "colab": {
      "name": "OSW_Pandas.ipynb",
      "provenance": [],
      "toc_visible": true,
      "include_colab_link": true
    }
  },
  "cells": [
    {
      "cell_type": "markdown",
      "metadata": {
        "id": "view-in-github",
        "colab_type": "text"
      },
      "source": [
        "<a href=\"https://colab.research.google.com/github/mnijhuis-dnb/open_source_workshop/blob/master/Workshop_code.ipynb\" target=\"_parent\"><img src=\"https://colab.research.google.com/assets/colab-badge.svg\" alt=\"Open In Colab\"/></a>"
      ]
    },
    {
      "cell_type": "markdown",
      "metadata": {
        "id": "4vVvo9GWq3gN",
        "colab_type": "text"
      },
      "source": [
        "# Pandas\n",
        "\n",
        "### Open Source Workshop"
      ]
    },
    {
      "cell_type": "code",
      "metadata": {
        "id": "II1RQsyGq3gQ",
        "colab_type": "code",
        "colab": {}
      },
      "source": [
        "import pandas as pd \n",
        "import numpy as np"
      ],
      "execution_count": 1,
      "outputs": []
    },
    {
      "cell_type": "markdown",
      "metadata": {
        "id": "GLNlPVh_q3gX",
        "colab_type": "text"
      },
      "source": [
        "### Data inlezen \n",
        "\n",
        "Zelf een dataframe maken"
      ]
    },
    {
      "cell_type": "code",
      "metadata": {
        "id": "Ye8PxIqyq3gY",
        "colab_type": "code",
        "colab": {}
      },
      "source": [
        "raw_data_a = {\n",
        "        'account_id': ['0', '1', '2', '3', '4'],\n",
        "        'waarde': [5218, 268000, 30000, 415000, 235400],\n",
        "        'aantal': [1, 1, 2, 2, 1]}\n",
        "df_a = pd.DataFrame(raw_data_a, columns = ['account_id', 'waarde', 'aantal'])\n",
        "df_a"
      ],
      "execution_count": null,
      "outputs": []
    },
    {
      "cell_type": "markdown",
      "metadata": {
        "id": "i239WMmsq3gh",
        "colab_type": "text"
      },
      "source": [
        "Ingelezen data weergeven"
      ]
    },
    {
      "cell_type": "code",
      "metadata": {
        "id": "z5D0sVFTq3gi",
        "colab_type": "code",
        "colab": {}
      },
      "source": [
        "import urllib.request\n",
        "file = urllib. request. urlopen('https://raw.githubusercontent.com/mnijhuis-dnb/open_source_workshop/master/OSW_example/Kernindicatoren.csv')\n",
        "# Alleen nodig omdat we vanuit GitHub data laden voor lokale bestanden kun je gewoon file vervangen door het bestandspath\n",
        "df = pd.read_csv(file, delimiter=',', header='infer', index_col=None, skiprows=0, error_bad_lines=True)"
      ],
      "execution_count": 8,
      "outputs": []
    },
    {
      "cell_type": "markdown",
      "metadata": {
        "id": "0cst0yyiq3gp",
        "colab_type": "text"
      },
      "source": [
        "Ingelezen data weergeven"
      ]
    },
    {
      "cell_type": "code",
      "metadata": {
        "scrolled": true,
        "id": "8W0Wrcrmq3gq",
        "colab_type": "code",
        "colab": {}
      },
      "source": [
        "df.head(5)"
      ],
      "execution_count": null,
      "outputs": []
    },
    {
      "cell_type": "markdown",
      "metadata": {
        "id": "2vxfkUcHq3gw",
        "colab_type": "text"
      },
      "source": [
        "kolom namen weergeven"
      ]
    },
    {
      "cell_type": "code",
      "metadata": {
        "id": "DK0iTeeKq3gy",
        "colab_type": "code",
        "colab": {}
      },
      "source": [
        "df.columns"
      ],
      "execution_count": null,
      "outputs": []
    },
    {
      "cell_type": "markdown",
      "metadata": {
        "id": "xzf-Wt0sq3g5",
        "colab_type": "text"
      },
      "source": [
        "specifieke kolom selecteren"
      ]
    },
    {
      "cell_type": "code",
      "metadata": {
        "id": "o2Wba8qcq3g5",
        "colab_type": "code",
        "colab": {}
      },
      "source": [
        "df['waarde'].tail(10)"
      ],
      "execution_count": null,
      "outputs": []
    },
    {
      "cell_type": "code",
      "metadata": {
        "id": "UHQS1XJxq3hA",
        "colab_type": "code",
        "colab": {}
      },
      "source": [
        "col = df.columns\n",
        "df[col[4]].tail(10)"
      ],
      "execution_count": null,
      "outputs": []
    },
    {
      "cell_type": "markdown",
      "metadata": {
        "id": "CD01e57Kq3hH",
        "colab_type": "text"
      },
      "source": [
        "Data types weergeven"
      ]
    },
    {
      "cell_type": "code",
      "metadata": {
        "id": "vVnHvqpGq3hI",
        "colab_type": "code",
        "colab": {}
      },
      "source": [
        "df.dtypes"
      ],
      "execution_count": null,
      "outputs": []
    },
    {
      "cell_type": "markdown",
      "metadata": {
        "id": "5ow_meUvq3hM",
        "colab_type": "text"
      },
      "source": [
        "Data type wijzigen\n",
        "\n",
        "Voor  wijzigen naar numerieke data gebruik pd.to_numeric(df[kolom], errors='coerce'), voor string gebruik df['kolom'].astype(str)\n",
        "\n",
        "Voor format string zie: https://docs.python.org/3/library/datetime.html#strftime-and-strptime-behavior"
      ]
    },
    {
      "cell_type": "code",
      "metadata": {
        "id": "Oqk0j2kJq3hN",
        "colab_type": "code",
        "colab": {}
      },
      "source": [
        "df['Periode '] = pd.to_datetime(df['Periode '],format='%Y-%m',errors='coerce')\n",
        "df.head(5)"
      ],
      "execution_count": null,
      "outputs": []
    },
    {
      "cell_type": "code",
      "metadata": {
        "id": "KoInZHvFq3hR",
        "colab_type": "code",
        "colab": {}
      },
      "source": [
        "df.dtypes"
      ],
      "execution_count": null,
      "outputs": []
    },
    {
      "cell_type": "markdown",
      "metadata": {
        "id": "b1ANfw5wq3ha",
        "colab_type": "text"
      },
      "source": [
        "Spaties verwijderen"
      ]
    },
    {
      "cell_type": "code",
      "metadata": {
        "id": "F88Pkwwfq3hc",
        "colab_type": "code",
        "colab": {}
      },
      "source": [
        "df.columns = df.columns.str.strip()\n",
        "df['Periode'].head(5)"
      ],
      "execution_count": null,
      "outputs": []
    },
    {
      "cell_type": "markdown",
      "metadata": {
        "id": "lX54EOemq3hi",
        "colab_type": "text"
      },
      "source": [
        "Data inlezen uit Excel"
      ]
    },
    {
      "cell_type": "code",
      "metadata": {
        "id": "0GLA7jaGq3hj",
        "colab_type": "code",
        "colab": {}
      },
      "source": [
        "xls_file = pd.ExcelFile('kernindicatoren.xlsx')\n",
        "df = pd.read_excel(xls_file,sheet_name='Data', usecols='A, B, C, D, E') #sheet_name=None for all sheets\n",
        "df.head(5)"
      ],
      "execution_count": null,
      "outputs": []
    },
    {
      "cell_type": "markdown",
      "metadata": {
        "id": "BlfXia7xq3hq",
        "colab_type": "text"
      },
      "source": [
        "Data inlezen uit een JSON"
      ]
    },
    {
      "cell_type": "code",
      "metadata": {
        "id": "IlHVjp_2q3hr",
        "colab_type": "code",
        "colab": {}
      },
      "source": [
        "file = urllib. request. urlopen('https://raw.githubusercontent.com/mnijhuis-dnb/open_source_workshop/master/OSW_example/Kernindicatoren.json')\n",
        "df = pd.read_json(file, orient='records')\n",
        "df.columns = df.columns.str.strip()\n",
        "#df[df.columns.drop(['waarde','Periode'])] = df[df.columns.drop(['waarde','Periode'])].str.strip()\n",
        "df['Instrument'] = df['Instrument'].str.strip()\n",
        "df['InstrumentSub'] = df['InstrumentSub'].str.strip()\n",
        "df['Sector'] = df['Sector'].str.strip()\n",
        "df.head(10)"
      ],
      "execution_count": null,
      "outputs": []
    },
    {
      "cell_type": "markdown",
      "metadata": {
        "id": "zk4NTxrwq3hx",
        "colab_type": "text"
      },
      "source": [
        "### Data schonen \n",
        "\n",
        "Fouten uit data halen"
      ]
    },
    {
      "cell_type": "markdown",
      "metadata": {
        "id": "DGzScnQnq3hy",
        "colab_type": "text"
      },
      "source": [
        "Informatie over het dataframe ophalen"
      ]
    },
    {
      "cell_type": "code",
      "metadata": {
        "id": "SgzQmk7mq3hz",
        "colab_type": "code",
        "colab": {}
      },
      "source": [
        "df.info()"
      ],
      "execution_count": null,
      "outputs": []
    },
    {
      "cell_type": "markdown",
      "metadata": {
        "id": "FkXosdMBq3h3",
        "colab_type": "text"
      },
      "source": [
        "Cellen met ongeldige waardes identificeren"
      ]
    },
    {
      "cell_type": "code",
      "metadata": {
        "id": "5Sn2KW22q3h4",
        "colab_type": "code",
        "colab": {}
      },
      "source": [
        "df['waarde'] = pd.to_numeric(df['waarde'], errors='coerce')\n",
        "df.isna().sum()"
      ],
      "execution_count": null,
      "outputs": []
    },
    {
      "cell_type": "markdown",
      "metadata": {
        "id": "sakDFe6Eq3h8",
        "colab_type": "text"
      },
      "source": [
        "Cellen met ongeldige waardes verwijderen, voor het vullen van nan's gebruik df.fillna(x), waarin x de waarde voor de nan is"
      ]
    },
    {
      "cell_type": "code",
      "metadata": {
        "id": "IMr831gFq3h9",
        "colab_type": "code",
        "colab": {}
      },
      "source": [
        "df.dropna(how='any', thresh=2, axis=0, subset=['waarde','Instrument'], inplace=False).head(10)"
      ],
      "execution_count": null,
      "outputs": []
    },
    {
      "cell_type": "markdown",
      "metadata": {
        "id": "uDWfQWI-q3iA",
        "colab_type": "text"
      },
      "source": [
        "NaN waardes interpoleren"
      ]
    },
    {
      "cell_type": "code",
      "metadata": {
        "id": "MiGbRAjgq3iB",
        "colab_type": "code",
        "colab": {}
      },
      "source": [
        "df.head(15).interpolate(method='spline', order=2, limit=5, limit_direction='both', limit_area='inside')"
      ],
      "execution_count": null,
      "outputs": []
    },
    {
      "cell_type": "markdown",
      "metadata": {
        "id": "QDkdW5uCq3iG",
        "colab_type": "text"
      },
      "source": [
        "Identieke rijen verwijderen"
      ]
    },
    {
      "cell_type": "code",
      "metadata": {
        "id": "cWG1BZWRq3iH",
        "colab_type": "code",
        "colab": {}
      },
      "source": [
        "print(\"Aantal rijen voor verwijderen {}\".format(len(df)))\n",
        "df.drop_duplicates(inplace=True)\n",
        "print(\"Aantal rijen na verwijderen {}\".format(len(df)))"
      ],
      "execution_count": null,
      "outputs": []
    },
    {
      "cell_type": "markdown",
      "metadata": {
        "id": "OouTV1Hgq3iK",
        "colab_type": "text"
      },
      "source": [
        "Kolommen of rijen laten vallen"
      ]
    },
    {
      "cell_type": "code",
      "metadata": {
        "id": "O_i3TPBFq3iL",
        "colab_type": "code",
        "colab": {}
      },
      "source": [
        "df.drop(columns=['waarde - 10'], inplace=True)\n",
        "df.head(5)"
      ],
      "execution_count": null,
      "outputs": []
    },
    {
      "cell_type": "markdown",
      "metadata": {
        "id": "tPo0ov4Lq3iO",
        "colab_type": "text"
      },
      "source": [
        "Data afronden"
      ]
    },
    {
      "cell_type": "code",
      "metadata": {
        "id": "bie4FCeQq3iO",
        "colab_type": "code",
        "colab": {}
      },
      "source": [
        "df.round({'waarde' : -2}).head(5)"
      ],
      "execution_count": null,
      "outputs": []
    },
    {
      "cell_type": "markdown",
      "metadata": {
        "id": "o2O-To23q3iR",
        "colab_type": "text"
      },
      "source": [
        "Data discreet maken"
      ]
    },
    {
      "cell_type": "code",
      "metadata": {
        "id": "-Br6Vnb3q3iS",
        "colab_type": "code",
        "colab": {}
      },
      "source": [
        "pd.cut(df['waarde'], bins=[0,1e1,1e2,1e3,1e4,1e5,1e6,1e7],precision =2, retbins=True,  duplicates='drop')[0].head(5)"
      ],
      "execution_count": null,
      "outputs": []
    },
    {
      "cell_type": "markdown",
      "metadata": {
        "id": "EEnoUESsq3iW",
        "colab_type": "text"
      },
      "source": [
        "### Data indexeren en combineren \n",
        "\n",
        "Data indexeren op basis van labels of een boolean index"
      ]
    },
    {
      "cell_type": "code",
      "metadata": {
        "id": "1AnGEG82q3iX",
        "colab_type": "code",
        "colab": {}
      },
      "source": [
        "df.loc[df['InstrumentSub'].isna()]"
      ],
      "execution_count": null,
      "outputs": []
    },
    {
      "cell_type": "code",
      "metadata": {
        "id": "uzgY_6opq3ib",
        "colab_type": "code",
        "colab": {}
      },
      "source": [
        "df.loc[df['Periode']=='2006-06']"
      ],
      "execution_count": null,
      "outputs": []
    },
    {
      "cell_type": "markdown",
      "metadata": {
        "id": "uhYPNwfhq3ie",
        "colab_type": "text"
      },
      "source": [
        "Data selecteren aan de hand van een integer index"
      ]
    },
    {
      "cell_type": "code",
      "metadata": {
        "id": "9L9TLNyXq3if",
        "colab_type": "code",
        "colab": {}
      },
      "source": [
        "df.iloc[45:55,:3]"
      ],
      "execution_count": null,
      "outputs": []
    },
    {
      "cell_type": "markdown",
      "metadata": {
        "id": "UTkBNpF9q3ij",
        "colab_type": "text"
      },
      "source": [
        "Een enkel element selecteren"
      ]
    },
    {
      "cell_type": "code",
      "metadata": {
        "id": "bsAjTMgLq3ij",
        "colab_type": "code",
        "colab": {}
      },
      "source": [
        "df.at[48,'waarde']"
      ],
      "execution_count": null,
      "outputs": []
    },
    {
      "cell_type": "markdown",
      "metadata": {
        "id": "cp6FeGsXq3io",
        "colab_type": "text"
      },
      "source": [
        "Chain indexing, een subset van een subset van de data bekijken (niet gebruiken voor het toewijzen van data in een dataframe!)"
      ]
    },
    {
      "cell_type": "code",
      "metadata": {
        "id": "YFigCfOLq3ip",
        "colab_type": "code",
        "colab": {}
      },
      "source": [
        "df.loc[df['Periode']=='2006-06'].loc[:,'waarde']"
      ],
      "execution_count": null,
      "outputs": []
    },
    {
      "cell_type": "markdown",
      "metadata": {
        "id": "cEjaATykq3ix",
        "colab_type": "text"
      },
      "source": [
        "Meerdere filters combineren"
      ]
    },
    {
      "cell_type": "code",
      "metadata": {
        "id": "GvS0OFFxq3iy",
        "colab_type": "code",
        "colab": {}
      },
      "source": [
        "df.loc[(df['Instrument'].str.contains('hypotheken', case=False, na=False)) \n",
        "       & (df['InstrumentSub'].str.contains('zuiver nieuwe leningen', case=False, na=False)) \n",
        "       & (df['InstrumentSub'].str.contains('rente', case=False, na=False)) \n",
        "       & ((df['waarde'] >= 3) | (df['waarde'] < 2))]"
      ],
      "execution_count": null,
      "outputs": []
    },
    {
      "cell_type": "markdown",
      "metadata": {
        "id": "IclyzClYq3i3",
        "colab_type": "text"
      },
      "source": [
        "De index opnieuw aanmaken"
      ]
    },
    {
      "cell_type": "code",
      "metadata": {
        "id": "pUJLNfo5q3i4",
        "colab_type": "code",
        "colab": {}
      },
      "source": [
        "df2 = df.set_index(['Instrument','InstrumentSub','Sector','Periode'],append=False)\n",
        "df2.head(20)"
      ],
      "execution_count": null,
      "outputs": []
    },
    {
      "cell_type": "markdown",
      "metadata": {
        "id": "h-NDGri0q3i7",
        "colab_type": "text"
      },
      "source": [
        "De index gebruiken voor het selecteren"
      ]
    },
    {
      "cell_type": "code",
      "metadata": {
        "id": "GvgMv7FWq3i7",
        "colab_type": "code",
        "colab": {}
      },
      "source": [
        "df2.loc['Consumptief krediet',:,'Huishoudens','2006-06' ]"
      ],
      "execution_count": null,
      "outputs": []
    },
    {
      "cell_type": "markdown",
      "metadata": {
        "id": "7f_U8MmGq3i-",
        "colab_type": "text"
      },
      "source": [
        "Index maken en aanvullen"
      ]
    },
    {
      "cell_type": "code",
      "metadata": {
        "id": "vzHehttbq3i_",
        "colab_type": "code",
        "colab": {}
      },
      "source": [
        "df['Periode'] = pd.to_datetime(df['Periode'],format='%Y-%m',errors='coerce')\n",
        "df2 = df.set_index('Periode').head(20).reindex(pd.date_range('1/1/2002', periods=240, freq='MS'))\n",
        "print(df2.loc['2002-05-01'])\n",
        "print('')\n",
        "print(df2.loc['2003-05-01'])"
      ],
      "execution_count": null,
      "outputs": []
    },
    {
      "cell_type": "markdown",
      "metadata": {
        "id": "8Oi2lJpyq3jC",
        "colab_type": "text"
      },
      "source": [
        "Kolom toevoegen"
      ]
    },
    {
      "cell_type": "code",
      "metadata": {
        "id": "VfRew8Dxq3jC",
        "colab_type": "code",
        "colab": {}
      },
      "source": [
        "df['waarde - 10'] = df['waarde'] - 10 \n",
        "df.head(5)"
      ],
      "execution_count": null,
      "outputs": []
    },
    {
      "cell_type": "markdown",
      "metadata": {
        "id": "lsnh9d8Dq3jF",
        "colab_type": "text"
      },
      "source": [
        "Verschillende dataframes aan elkaar toevoegen "
      ]
    },
    {
      "cell_type": "code",
      "metadata": {
        "id": "904TjPx4q3jG",
        "colab_type": "code",
        "colab": {}
      },
      "source": [
        "df1 = df.tail(10)\n",
        "df2 = df.head(10)\n",
        "df1.append(df2, ignore_index=False, sort=False)"
      ],
      "execution_count": null,
      "outputs": []
    },
    {
      "cell_type": "markdown",
      "metadata": {
        "id": "1oIIHyzAq3jJ",
        "colab_type": "text"
      },
      "source": [
        "Databronnen die samengevoegd moeten worden"
      ]
    },
    {
      "cell_type": "code",
      "metadata": {
        "id": "wxrBkSFvq3jJ",
        "colab_type": "code",
        "colab": {}
      },
      "source": [
        "raw_data_a = {\n",
        "        'account_id': ['0', '1', '2', '3', '4'],\n",
        "        'datum': ['2009-12', '2010-01', '2009-12', '2010-01', '2010-01'],\n",
        "        'type': ['Consumptief krediet', 'Woninghypotheken', 'Zakelijke kredietverlening', 'Woninghypotheken', 'Zakelijke kredietverlening'],\n",
        "        'initieel bedrag': [5218, 268000, 30000, 415000, 235400]}\n",
        "df_a = pd.DataFrame(raw_data_a, columns = ['account_id', 'datum', 'type', 'initieel bedrag'])\n",
        "print(df_a)\n",
        "print('')\n",
        "raw_data_b = {\n",
        "        'account_id': ['0', '0', '1', '3', '0', '2', '1', '3', '3', '2','5'],\n",
        "        'datum': ['2009-12', '2010-01', '2010-01', '2010-01', '2010-01', '2010-01', '2010-02', '2010-02', '2010-02', '2010-02', '2010-02'],\n",
        "        'afbetaling': [211, 516, 245, 189, 520, 110, 548, 328, 1065, 985, 1050],\n",
        "        'type': ['standaard', 'standaard', 'standaard', 'standaard', 'extra', 'standaard', 'standaard', 'standaard', 'extra', 'standaard', 'standaard']}\n",
        "df_b = pd.DataFrame(raw_data_b, columns = ['account_id', 'datum', 'afbetaling','type'])\n",
        "print(df_b)"
      ],
      "execution_count": null,
      "outputs": []
    },
    {
      "cell_type": "markdown",
      "metadata": {
        "id": "hp40jhyrq3jM",
        "colab_type": "text"
      },
      "source": [
        "Samenvoegen van tabellen via merge"
      ]
    },
    {
      "cell_type": "code",
      "metadata": {
        "id": "vCH-g61gq3jN",
        "colab_type": "code",
        "colab": {}
      },
      "source": [
        "pd.merge(df_a, df_b, how='outer', left_on=['account_id', 'datum'], right_on=['account_id', 'datum'],suffixes=('_a', '_b'),indicator=True)"
      ],
      "execution_count": null,
      "outputs": []
    },
    {
      "cell_type": "markdown",
      "metadata": {
        "id": "nqUKw4fmq3jR",
        "colab_type": "text"
      },
      "source": [
        "De data uit twee dataframes bij elkaar optellen"
      ]
    },
    {
      "cell_type": "code",
      "metadata": {
        "id": "A_QHisfGq3jS",
        "colab_type": "code",
        "colab": {}
      },
      "source": [
        "raw_data_a = {\n",
        "        'account_id': ['0', '1', '2', '3', '4'],\n",
        "        'waarde': [5218, 268000, 30000, 415000, 235400],\n",
        "        'aantal': [1, 1, 2, 2, 1]}\n",
        "df_a = pd.DataFrame(raw_data_a, columns = ['waarde', 'aantal'], index = raw_data_a['account_id'])\n",
        "print(df_a)\n",
        "print('')\n",
        "raw_data_b = {\n",
        "        'account_id': ['1', '0', '3', '2'],\n",
        "        'waarde': [100, 200, 300, 400],\n",
        "        'aantal': [1, 1, 1, 1]}\n",
        "df_b = pd.DataFrame(raw_data_b, columns = ['waarde', 'aantal'], index = raw_data_b['account_id'])\n",
        "print(df_b)\n",
        "print(df_a+df_b)"
      ],
      "execution_count": null,
      "outputs": []
    },
    {
      "cell_type": "markdown",
      "metadata": {
        "id": "AxBLoN7Uq3jX",
        "colab_type": "text"
      },
      "source": [
        "### Data analyseren \n",
        "\n",
        "Data sorteren"
      ]
    },
    {
      "cell_type": "code",
      "metadata": {
        "id": "R30kfZPUq3jY",
        "colab_type": "code",
        "colab": {}
      },
      "source": [
        "df.sort_values(by=['Periode','Sector'], ascending=True, na_position='last').tail(15)"
      ],
      "execution_count": null,
      "outputs": []
    },
    {
      "cell_type": "markdown",
      "metadata": {
        "id": "nlA-68mBq3jb",
        "colab_type": "text"
      },
      "source": [
        "De cijferdata uit een dataframe halen"
      ]
    },
    {
      "cell_type": "code",
      "metadata": {
        "id": "aca78PUvq3jc",
        "colab_type": "code",
        "colab": {}
      },
      "source": [
        "numerieke_waardes = df['waarde'].values\n",
        "print(numerieke_waardes)"
      ],
      "execution_count": null,
      "outputs": []
    },
    {
      "cell_type": "markdown",
      "metadata": {
        "id": "cF23sA_eq3jl",
        "colab_type": "text"
      },
      "source": [
        "Basis statistieken voor de data weergeven (numerieke kolommen)"
      ]
    },
    {
      "cell_type": "code",
      "metadata": {
        "id": "lqqc6Reoq3jm",
        "colab_type": "code",
        "colab": {}
      },
      "source": [
        "df.describe()"
      ],
      "execution_count": null,
      "outputs": []
    },
    {
      "cell_type": "markdown",
      "metadata": {
        "id": "FPoiANziq3jr",
        "colab_type": "text"
      },
      "source": [
        "of handmatig "
      ]
    },
    {
      "cell_type": "code",
      "metadata": {
        "id": "WJEGLD9Oq3jr",
        "colab_type": "code",
        "colab": {}
      },
      "source": [
        "print(df.quantile(q=0.9))\n",
        "print(df.max())"
      ],
      "execution_count": null,
      "outputs": []
    },
    {
      "cell_type": "markdown",
      "metadata": {
        "id": "YnvFfJ9Zq3jx",
        "colab_type": "text"
      },
      "source": [
        "Pivot tabel maken"
      ]
    },
    {
      "cell_type": "code",
      "metadata": {
        "id": "Pr6fGwn4q3jy",
        "colab_type": "code",
        "colab": {}
      },
      "source": [
        "pd.pivot_table(df, values=['waarde'], index=['Periode', 'InstrumentSub'], aggfunc={'waarde': [min, max, sum]}).tail(20)"
      ],
      "execution_count": null,
      "outputs": []
    },
    {
      "cell_type": "markdown",
      "metadata": {
        "id": "rhtgEVrmq3j4",
        "colab_type": "text"
      },
      "source": [
        "Maken van een lopend gemiddelde"
      ]
    },
    {
      "cell_type": "code",
      "metadata": {
        "id": "F5Qjf1dZq3j4",
        "colab_type": "code",
        "colab": {}
      },
      "source": [
        "df_uitstaande = df[df['InstrumentSub']=='Uitstaande bedragen (mln euros)'].copy()\n",
        "df_uitstaande['lopende gemiddelde'] = df_uitstaande['waarde'].rolling(6, min_periods=4).mean()\n",
        "df_uitstaande.head(12)"
      ],
      "execution_count": null,
      "outputs": []
    },
    {
      "cell_type": "markdown",
      "metadata": {
        "id": "q10ewl_nq3j9",
        "colab_type": "text"
      },
      "source": [
        "Data combineren uit verschillende dataframes"
      ]
    },
    {
      "cell_type": "code",
      "metadata": {
        "id": "JMalAhdiq3j-",
        "colab_type": "code",
        "colab": {}
      },
      "source": [
        "df_a = df_uitstaande.copy()\n",
        "df_a = df_a.set_index(['Instrument','InstrumentSub','Sector','Periode'],append=False)\n",
        "\n",
        "df_b = df_uitstaande.copy()\n",
        "df_b = df_b.set_index(['Instrument','InstrumentSub','Sector','Periode'],append=False)\n",
        "df_b['waarde'] = df_b['lopende gemiddelde']\n",
        "\n",
        "df_a.combine(df_b, np.minimum, fill_value = 8).head(10)"
      ],
      "execution_count": null,
      "outputs": []
    },
    {
      "cell_type": "markdown",
      "metadata": {
        "id": "2F6wRXsLq3kD",
        "colab_type": "text"
      },
      "source": [
        "Aantal keren tellen dat een waarde voorkomt"
      ]
    },
    {
      "cell_type": "code",
      "metadata": {
        "id": "TzVyBuSBq3kE",
        "colab_type": "code",
        "colab": {}
      },
      "source": [
        "df['waarde'].value_counts(bins=10,dropna=True,normalize=True)"
      ],
      "execution_count": null,
      "outputs": []
    },
    {
      "cell_type": "markdown",
      "metadata": {
        "id": "Xv-en44nq3kJ",
        "colab_type": "text"
      },
      "source": [
        "Data grouperen"
      ]
    },
    {
      "cell_type": "code",
      "metadata": {
        "id": "KNtjKWexq3kK",
        "colab_type": "code",
        "colab": {}
      },
      "source": [
        "df.groupby(['Instrument','InstrumentSub']).agg({'waarde': [np.min, np.max, np.mean]})"
      ],
      "execution_count": null,
      "outputs": []
    },
    {
      "cell_type": "markdown",
      "metadata": {
        "id": "DAEkAvgEq3kO",
        "colab_type": "text"
      },
      "source": [
        "Berekeningen toepassen op elke rij/kolom"
      ]
    },
    {
      "cell_type": "code",
      "metadata": {
        "id": "vqfibQ_oq3kR",
        "colab_type": "code",
        "colab": {}
      },
      "source": [
        "df.apply(\n",
        "    lambda x: [x['waarde'] + 3, 1] if x['Periode'] < pd.to_datetime(\"2015-01-01\") else [x['waarde']-3, -1]\n",
        "    , axis=1, raw=True, result_type='expand')"
      ],
      "execution_count": null,
      "outputs": []
    },
    {
      "cell_type": "markdown",
      "metadata": {
        "id": "XLlD9zvJq3kX",
        "colab_type": "text"
      },
      "source": [
        "Over de rijen van een dataframe ittereren"
      ]
    },
    {
      "cell_type": "code",
      "metadata": {
        "id": "Xc0WECKRq3kc",
        "colab_type": "code",
        "colab": {}
      },
      "source": [
        "for index, row in df.iterrows():\n",
        "    if index % 1000 == 0:\n",
        "        df.at[index,'waarde'] = 0\n",
        "        print(row)"
      ],
      "execution_count": null,
      "outputs": []
    },
    {
      "cell_type": "markdown",
      "metadata": {
        "id": "Esr1V9iiq3ki",
        "colab_type": "text"
      },
      "source": [
        "Data plotten"
      ]
    },
    {
      "cell_type": "code",
      "metadata": {
        "id": "ttPNkXN8q3ki",
        "colab_type": "code",
        "colab": {}
      },
      "source": [
        "df['waarde'].plot()"
      ],
      "execution_count": null,
      "outputs": []
    },
    {
      "cell_type": "markdown",
      "metadata": {
        "id": "OVGMuGpxq3kp",
        "colab_type": "text"
      },
      "source": [
        "Het package voor het plotten laden en de standaard figuurgroote aanpassen"
      ]
    },
    {
      "cell_type": "code",
      "metadata": {
        "id": "VEA3WVWgq3kq",
        "colab_type": "code",
        "colab": {}
      },
      "source": [
        "import matplotlib.pyplot as plt\n",
        "plt.rcParams['figure.figsize'] = [10, 5]"
      ],
      "execution_count": null,
      "outputs": []
    },
    {
      "cell_type": "markdown",
      "metadata": {
        "id": "NR1l7ve_q3kx",
        "colab_type": "text"
      },
      "source": [
        "Scatterplot maken"
      ]
    },
    {
      "cell_type": "code",
      "metadata": {
        "id": "UdtwyjiKq3ky",
        "colab_type": "code",
        "colab": {}
      },
      "source": [
        "df_a = df[df['Instrument']=='Woninghypotheken'].dropna()\n",
        "df_a = df_a[df_a['InstrumentSub'].str.contains('Rente op uit')].set_index('Periode')\n",
        "\n",
        "df_b = df[df['Instrument']=='Zakelijke kredietverlening'].dropna()\n",
        "df_b = df_b[df_b['InstrumentSub'].str.contains('Rente op uit')].set_index('Periode')\n",
        "\n",
        "df_c = pd.merge(df_b,df_a, how='inner', left_on=['Periode'], right_on=['Periode'], suffixes=('_c','_b'))\n",
        "df_c.plot.scatter(x='waarde_c',y='waarde_b', alpha=0.5)"
      ],
      "execution_count": null,
      "outputs": []
    },
    {
      "cell_type": "markdown",
      "metadata": {
        "id": "qEDTkcLXq3k3",
        "colab_type": "text"
      },
      "source": [
        "Bar plot maken"
      ]
    },
    {
      "cell_type": "code",
      "metadata": {
        "scrolled": true,
        "id": "Nrq_9fy4q3k3",
        "colab_type": "code",
        "colab": {}
      },
      "source": [
        "df[df['Periode']=='2010-06'].plot.bar(y='waarde',x='InstrumentSub')"
      ],
      "execution_count": null,
      "outputs": []
    },
    {
      "cell_type": "markdown",
      "metadata": {
        "id": "PQwot6qYq3k7",
        "colab_type": "text"
      },
      "source": [
        "Histogram maken"
      ]
    },
    {
      "cell_type": "code",
      "metadata": {
        "scrolled": true,
        "id": "TUS-gmdxq3k7",
        "colab_type": "code",
        "colab": {}
      },
      "source": [
        "df.drop(columns=['Periode']).plot.hist(bins=20, density=False)"
      ],
      "execution_count": null,
      "outputs": []
    },
    {
      "cell_type": "markdown",
      "metadata": {
        "id": "zHW_AfXLq3k-",
        "colab_type": "text"
      },
      "source": [
        "### Data wegschrijven \n",
        "\n",
        "Data die je in Python heb gebruikt wegschrijven om later weer te gebruiken of in andere programma's te gebruiken"
      ]
    },
    {
      "cell_type": "markdown",
      "metadata": {
        "id": "O9r2Kl2lq3lA",
        "colab_type": "text"
      },
      "source": [
        "Data wegschrijven om later te gebruiken"
      ]
    },
    {
      "cell_type": "code",
      "metadata": {
        "id": "e4pS7uZvq3lB",
        "colab_type": "code",
        "colab": {}
      },
      "source": [
        "df.to_pickle('results.pkl')"
      ],
      "execution_count": null,
      "outputs": []
    },
    {
      "cell_type": "markdown",
      "metadata": {
        "id": "brYUzMJ8q3lF",
        "colab_type": "text"
      },
      "source": [
        "Data wegschrijven als een csv"
      ]
    },
    {
      "cell_type": "code",
      "metadata": {
        "id": "lmifkinPq3lG",
        "colab_type": "code",
        "colab": {}
      },
      "source": [
        "df.to_csv('results.csv', index=False, decimal=',', sep='\\t')"
      ],
      "execution_count": null,
      "outputs": []
    },
    {
      "cell_type": "markdown",
      "metadata": {
        "id": "fKWNqEy3q3lK",
        "colab_type": "text"
      },
      "source": [
        "Data wegschrijven naar Excel"
      ]
    },
    {
      "cell_type": "code",
      "metadata": {
        "id": "kFQk7U1Uq3lL",
        "colab_type": "code",
        "colab": {}
      },
      "source": [
        "with pd.ExcelWriter('results.xlsx') as writer:  \n",
        "    df[df['Instrument']=='Woninghypotheken'].to_excel(writer, sheet_name='Woninghypotheken')\n",
        "    df[df['Instrument']=='Zakelijke kredietverlening'].to_excel(writer, sheet_name='Zakelijke kredietverlening')"
      ],
      "execution_count": null,
      "outputs": []
    },
    {
      "cell_type": "code",
      "metadata": {
        "id": "2Qqjhiyvq3lP",
        "colab_type": "code",
        "colab": {}
      },
      "source": [
        ""
      ],
      "execution_count": null,
      "outputs": []
    }
  ]
}