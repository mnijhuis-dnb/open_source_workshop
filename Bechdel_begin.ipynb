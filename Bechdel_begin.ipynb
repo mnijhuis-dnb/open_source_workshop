{
  "nbformat": 4,
  "nbformat_minor": 0,
  "metadata": {
    "colab": {
      "name": "Bechdel.ipynb",
      "provenance": [],
      "collapsed_sections": [],
      "authorship_tag": "ABX9TyMUCClNHjPRRiJS7e5jq58s",
      "include_colab_link": true
    },
    "kernelspec": {
      "name": "python3",
      "display_name": "Python 3"
    },
    "language_info": {
      "name": "python"
    }
  },
  "cells": [
    {
      "cell_type": "markdown",
      "metadata": {
        "id": "view-in-github",
        "colab_type": "text"
      },
      "source": [
        "<a href=\"https://colab.research.google.com/github/mnijhuis-dnb/open_source_workshop/blob/master/Bechdel_begin.ipynb\" target=\"_parent\"><img src=\"https://colab.research.google.com/assets/colab-badge.svg\" alt=\"Open In Colab\"/></a>"
      ]
    },
    {
      "cell_type": "markdown",
      "metadata": {
        "id": "1ulHOtJGe6gE"
      },
      "source": [
        "Load the packages, including the urllib & json for getting the data"
      ]
    },
    {
      "cell_type": "code",
      "metadata": {
        "id": "_Gw3PWuA3GKH"
      },
      "source": [
        "import urllib.request, json\n",
        "import pandas as pd\n",
        "import numpy as np\n",
        "import matplotlib.pyplot as plt"
      ],
      "execution_count": null,
      "outputs": []
    },
    {
      "cell_type": "markdown",
      "metadata": {
        "id": "LqvSefTHfG9r"
      },
      "source": [
        "retrieve the data from the JSON and read it in a dataframe"
      ]
    },
    {
      "cell_type": "code",
      "metadata": {
        "id": "KCcCrp8i4BUU"
      },
      "source": [
        "df = pd.read_json('http://bechdeltest.com/api/v1/getAllMovies')\n",
        "# if using the offline data\n",
        "# df = pd.read_json('Bechdel.json')"
      ],
      "execution_count": null,
      "outputs": []
    },
    {
      "cell_type": "markdown",
      "metadata": {
        "id": "NGGyixWOhjLU"
      },
      "source": [
        "Show what is in the data"
      ]
    },
    {
      "cell_type": "code",
      "metadata": {
        "id": "EkVbOygp4RiE"
      },
      "source": [
        "df.head()"
      ],
      "execution_count": null,
      "outputs": []
    },
    {
      "cell_type": "markdown",
      "metadata": {
        "id": "bpPB8GRchmvr"
      },
      "source": [
        "Make a pivot table of the data"
      ]
    },
    {
      "cell_type": "code",
      "metadata": {
        "id": "tauNhAyk4XoC"
      },
      "source": [
        "df_pivot = pd.pivot_table(df, values='id', index='year', columns='rating', aggfunc='count').fillna(0)"
      ],
      "execution_count": null,
      "outputs": []
    },
    {
      "cell_type": "markdown",
      "metadata": {
        "id": "aaoa5J_jhqqM"
      },
      "source": [
        "Show the resulting table"
      ]
    },
    {
      "cell_type": "code",
      "metadata": {
        "id": "tn3Ae6U6hrMs"
      },
      "source": [
        "df_pivot.head()"
      ],
      "execution_count": null,
      "outputs": []
    },
    {
      "cell_type": "markdown",
      "metadata": {
        "id": "s5y-RbSNhqK8"
      },
      "source": [
        "Try and plot the data"
      ]
    },
    {
      "cell_type": "code",
      "metadata": {
        "id": "fb2bFxKh7pSD"
      },
      "source": [
        "df_pivot.plot()"
      ],
      "execution_count": null,
      "outputs": []
    }
  ]
}